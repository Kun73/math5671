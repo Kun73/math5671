{
  "nbformat": 4,
  "nbformat_minor": 0,
  "metadata": {
    "colab": {
      "name": "final.ipynb",
      "provenance": [],
      "collapsed_sections": []
    },
    "kernelspec": {
      "name": "python3",
      "display_name": "Python 3"
    }
  },
  "cells": [
    {
      "cell_type": "code",
      "metadata": {
        "id": "CCUO099JO7BN",
        "colab_type": "code",
        "outputId": "d32fc121-144e-4f3b-da96-5586eb545632",
        "colab": {
          "base_uri": "https://localhost:8080/",
          "height": 34
        }
      },
      "source": [
        "from google.colab import auth\n",
        "auth.authenticate_user()\n",
        "print('Authenticated')"
      ],
      "execution_count": 6,
      "outputs": [
        {
          "output_type": "stream",
          "text": [
            "Authenticated\n"
          ],
          "name": "stdout"
        }
      ]
    },
    {
      "cell_type": "code",
      "metadata": {
        "id": "lKH4S2upPmAO",
        "colab_type": "code",
        "outputId": "a932de7c-17ea-4e80-868a-f3511cd368c0",
        "colab": {
          "base_uri": "https://localhost:8080/",
          "height": 667
        }
      },
      "source": [
        "!sudo pip install google-cloud-bigquery google-cloud-storage pandas pandas-gbq gcsfs oauth2client\n",
        "import datetime\n",
        "import pandas as pd\n",
        "import gcsfs\n",
        "from google.cloud import bigquery\n",
        "from google.cloud import storage"
      ],
      "execution_count": 7,
      "outputs": [
        {
          "output_type": "stream",
          "text": [
            "Requirement already satisfied: google-cloud-bigquery in /usr/local/lib/python3.6/dist-packages (1.21.0)\n",
            "Requirement already satisfied: google-cloud-storage in /usr/local/lib/python3.6/dist-packages (1.16.2)\n",
            "Requirement already satisfied: pandas in /usr/local/lib/python3.6/dist-packages (0.25.3)\n",
            "Requirement already satisfied: pandas-gbq in /usr/local/lib/python3.6/dist-packages (0.11.0)\n",
            "Collecting gcsfs\n",
            "  Downloading https://files.pythonhosted.org/packages/65/e2/05f903ce8f77804127195cfcc1ca8b500a3157a1572dcc4b82bf5af01564/gcsfs-0.4.0-py2.py3-none-any.whl\n",
            "Requirement already satisfied: oauth2client in /usr/local/lib/python3.6/dist-packages (4.1.3)\n",
            "Requirement already satisfied: google-resumable-media!=0.4.0,<0.5.0dev,>=0.3.1 in /usr/local/lib/python3.6/dist-packages (from google-cloud-bigquery) (0.4.1)\n",
            "Requirement already satisfied: protobuf>=3.6.0 in /usr/local/lib/python3.6/dist-packages (from google-cloud-bigquery) (3.10.0)\n",
            "Requirement already satisfied: google-cloud-core<2.0dev,>=1.0.3 in /usr/local/lib/python3.6/dist-packages (from google-cloud-bigquery) (1.0.3)\n",
            "Requirement already satisfied: google-auth>=1.2.0 in /usr/local/lib/python3.6/dist-packages (from google-cloud-storage) (1.4.2)\n",
            "Requirement already satisfied: python-dateutil>=2.6.1 in /usr/local/lib/python3.6/dist-packages (from pandas) (2.6.1)\n",
            "Requirement already satisfied: numpy>=1.13.3 in /usr/local/lib/python3.6/dist-packages (from pandas) (1.17.4)\n",
            "Requirement already satisfied: pytz>=2017.2 in /usr/local/lib/python3.6/dist-packages (from pandas) (2018.9)\n",
            "Requirement already satisfied: setuptools in /usr/local/lib/python3.6/dist-packages (from pandas-gbq) (41.6.0)\n",
            "Requirement already satisfied: google-auth-oauthlib in /usr/local/lib/python3.6/dist-packages (from pandas-gbq) (0.4.1)\n",
            "Requirement already satisfied: pydata-google-auth in /usr/local/lib/python3.6/dist-packages (from pandas-gbq) (0.1.3)\n",
            "Requirement already satisfied: requests in /usr/local/lib/python3.6/dist-packages (from gcsfs) (2.21.0)\n",
            "Requirement already satisfied: decorator in /usr/local/lib/python3.6/dist-packages (from gcsfs) (4.4.1)\n",
            "Requirement already satisfied: fsspec>=0.6.0 in /usr/local/lib/python3.6/dist-packages (from gcsfs) (0.6.0)\n",
            "Requirement already satisfied: pyasn1>=0.1.7 in /usr/local/lib/python3.6/dist-packages (from oauth2client) (0.4.7)\n",
            "Requirement already satisfied: six>=1.6.1 in /usr/local/lib/python3.6/dist-packages (from oauth2client) (1.12.0)\n",
            "Requirement already satisfied: httplib2>=0.9.1 in /usr/local/lib/python3.6/dist-packages (from oauth2client) (0.11.3)\n",
            "Requirement already satisfied: pyasn1-modules>=0.0.5 in /usr/local/lib/python3.6/dist-packages (from oauth2client) (0.2.7)\n",
            "Requirement already satisfied: rsa>=3.1.4 in /usr/local/lib/python3.6/dist-packages (from oauth2client) (4.0)\n",
            "Requirement already satisfied: google-api-core<2.0.0dev,>=1.14.0 in /usr/local/lib/python3.6/dist-packages (from google-cloud-core<2.0dev,>=1.0.3->google-cloud-bigquery) (1.14.3)\n",
            "Requirement already satisfied: cachetools>=2.0.0 in /usr/local/lib/python3.6/dist-packages (from google-auth>=1.2.0->google-cloud-storage) (3.1.1)\n",
            "Requirement already satisfied: requests-oauthlib>=0.7.0 in /usr/local/lib/python3.6/dist-packages (from google-auth-oauthlib->pandas-gbq) (1.3.0)\n",
            "Requirement already satisfied: certifi>=2017.4.17 in /usr/local/lib/python3.6/dist-packages (from requests->gcsfs) (2019.9.11)\n",
            "Requirement already satisfied: idna<2.9,>=2.5 in /usr/local/lib/python3.6/dist-packages (from requests->gcsfs) (2.8)\n",
            "Requirement already satisfied: chardet<3.1.0,>=3.0.2 in /usr/local/lib/python3.6/dist-packages (from requests->gcsfs) (3.0.4)\n",
            "Requirement already satisfied: urllib3<1.25,>=1.21.1 in /usr/local/lib/python3.6/dist-packages (from requests->gcsfs) (1.24.3)\n",
            "Requirement already satisfied: googleapis-common-protos<2.0dev,>=1.6.0 in /usr/local/lib/python3.6/dist-packages (from google-api-core<2.0.0dev,>=1.14.0->google-cloud-core<2.0dev,>=1.0.3->google-cloud-bigquery) (1.6.0)\n",
            "Requirement already satisfied: oauthlib>=3.0.0 in /usr/local/lib/python3.6/dist-packages (from requests-oauthlib>=0.7.0->google-auth-oauthlib->pandas-gbq) (3.1.0)\n",
            "Installing collected packages: gcsfs\n",
            "Successfully installed gcsfs-0.4.0\n"
          ],
          "name": "stdout"
        }
      ]
    },
    {
      "cell_type": "code",
      "metadata": {
        "id": "lSHyLnEDPqvX",
        "colab_type": "code",
        "colab": {}
      },
      "source": [
        "client_bq = bigquery.Client(location='US', project=\"cryptic-honor-259622\")"
      ],
      "execution_count": 0,
      "outputs": []
    },
    {
      "cell_type": "code",
      "metadata": {
        "id": "y7p9ZsSgQ5Lj",
        "colab_type": "code",
        "outputId": "3f69ceb8-2ca4-4b85-f066-9e490ee5a036",
        "colab": {
          "base_uri": "https://localhost:8080/",
          "height": 32
        }
      },
      "source": [
        "%%bigquery --project cryptic-honor-259622\n",
        "CREATE OR REPLACE MODEL\n",
        "  house_price.hpcluster OPTIONS(model_type='kmeans',\n",
        "  num_clusters=4) AS\n",
        "WITH\n",
        "  stationstats AS (\n",
        "    SELECT\n",
        "      *\n",
        "    FROM\n",
        "      `cryptic-honor-259622.house_price.test` AS test\n",
        "    UNION ALL\n",
        "    SELECT\n",
        "      *\n",
        "    FROM\n",
        "      `cryptic-honor-259622.house_price.train_f` AS train_f\n",
        ")\n",
        "SELECT\n",
        "  * EXCEPT(trans_date, house_age, distance_mrt, stores)\n",
        "FROM\n",
        "  stationstats;\n",
        "\n"
      ],
      "execution_count": 9,
      "outputs": [
        {
          "output_type": "execute_result",
          "data": {
            "text/html": [
              "<div>\n",
              "<style scoped>\n",
              "    .dataframe tbody tr th:only-of-type {\n",
              "        vertical-align: middle;\n",
              "    }\n",
              "\n",
              "    .dataframe tbody tr th {\n",
              "        vertical-align: top;\n",
              "    }\n",
              "\n",
              "    .dataframe thead th {\n",
              "        text-align: right;\n",
              "    }\n",
              "</style>\n",
              "<table border=\"1\" class=\"dataframe\">\n",
              "  <thead>\n",
              "    <tr style=\"text-align: right;\">\n",
              "      <th></th>\n",
              "    </tr>\n",
              "  </thead>\n",
              "  <tbody>\n",
              "  </tbody>\n",
              "</table>\n",
              "</div>"
            ],
            "text/plain": [
              "Empty DataFrame\n",
              "Columns: []\n",
              "Index: []"
            ]
          },
          "metadata": {
            "tags": []
          },
          "execution_count": 9
        }
      ]
    },
    {
      "cell_type": "code",
      "metadata": {
        "id": "62rleDRwVvAJ",
        "colab_type": "code",
        "colab": {}
      },
      "source": [
        "query = \"\"\"\n",
        "WITH\n",
        "  stationstats AS (\n",
        "    SELECT\n",
        "      *, 1 AS type\n",
        "    FROM\n",
        "      `cryptic-honor-259622.house_price.train_f` AS train_f\n",
        "    UNION ALL\n",
        "    SELECT\n",
        "      *, 0 AS type\n",
        "    FROM\n",
        "      `cryptic-honor-259622.house_price.test` AS test\n",
        ")\n",
        "SELECT\n",
        "  * EXCEPT(nearest_centroids_distance)\n",
        "FROM\n",
        "  ML.PREDICT( MODEL house_price.hpcluster,\n",
        "    (\n",
        "    SELECT\n",
        "      *\n",
        "    FROM\n",
        "      stationstats  \n",
        ")) AS MLP\n",
        "WHERE\n",
        "MLP.type = 1\n",
        "\"\"\"\n",
        "\n",
        "train_f = client_bq.query(query).to_dataframe()\n"
      ],
      "execution_count": 0,
      "outputs": []
    },
    {
      "cell_type": "code",
      "metadata": {
        "id": "NvHfHgmFVwBI",
        "colab_type": "code",
        "outputId": "6e0ba38b-7624-48e3-f9fe-1d2d06893b12",
        "colab": {
          "base_uri": "https://localhost:8080/",
          "height": 204
        }
      },
      "source": [
        "train_f.head()"
      ],
      "execution_count": 11,
      "outputs": [
        {
          "output_type": "execute_result",
          "data": {
            "text/html": [
              "<div>\n",
              "<style scoped>\n",
              "    .dataframe tbody tr th:only-of-type {\n",
              "        vertical-align: middle;\n",
              "    }\n",
              "\n",
              "    .dataframe tbody tr th {\n",
              "        vertical-align: top;\n",
              "    }\n",
              "\n",
              "    .dataframe thead th {\n",
              "        text-align: right;\n",
              "    }\n",
              "</style>\n",
              "<table border=\"1\" class=\"dataframe\">\n",
              "  <thead>\n",
              "    <tr style=\"text-align: right;\">\n",
              "      <th></th>\n",
              "      <th>CENTROID_ID</th>\n",
              "      <th>trans_date</th>\n",
              "      <th>house_age</th>\n",
              "      <th>distance_mrt</th>\n",
              "      <th>stores</th>\n",
              "      <th>latitude</th>\n",
              "      <th>longitude</th>\n",
              "      <th>type</th>\n",
              "    </tr>\n",
              "  </thead>\n",
              "  <tbody>\n",
              "    <tr>\n",
              "      <th>0</th>\n",
              "      <td>4</td>\n",
              "      <td>2013.000000</td>\n",
              "      <td>17.6</td>\n",
              "      <td>837.7233</td>\n",
              "      <td>0</td>\n",
              "      <td>24.96334</td>\n",
              "      <td>121.54767</td>\n",
              "      <td>1</td>\n",
              "    </tr>\n",
              "    <tr>\n",
              "      <th>1</th>\n",
              "      <td>4</td>\n",
              "      <td>2013.000000</td>\n",
              "      <td>8.9</td>\n",
              "      <td>3078.1760</td>\n",
              "      <td>0</td>\n",
              "      <td>24.95464</td>\n",
              "      <td>121.56627</td>\n",
              "      <td>1</td>\n",
              "    </tr>\n",
              "    <tr>\n",
              "      <th>2</th>\n",
              "      <td>1</td>\n",
              "      <td>2013.583333</td>\n",
              "      <td>4.0</td>\n",
              "      <td>2147.3760</td>\n",
              "      <td>3</td>\n",
              "      <td>24.96299</td>\n",
              "      <td>121.51284</td>\n",
              "      <td>1</td>\n",
              "    </tr>\n",
              "    <tr>\n",
              "      <th>3</th>\n",
              "      <td>1</td>\n",
              "      <td>2013.500000</td>\n",
              "      <td>13.5</td>\n",
              "      <td>2147.3760</td>\n",
              "      <td>3</td>\n",
              "      <td>24.96299</td>\n",
              "      <td>121.51284</td>\n",
              "      <td>1</td>\n",
              "    </tr>\n",
              "    <tr>\n",
              "      <th>4</th>\n",
              "      <td>1</td>\n",
              "      <td>2013.500000</td>\n",
              "      <td>4.0</td>\n",
              "      <td>2147.3760</td>\n",
              "      <td>3</td>\n",
              "      <td>24.96299</td>\n",
              "      <td>121.51284</td>\n",
              "      <td>1</td>\n",
              "    </tr>\n",
              "  </tbody>\n",
              "</table>\n",
              "</div>"
            ],
            "text/plain": [
              "   CENTROID_ID   trans_date  house_age  ...  latitude  longitude  type\n",
              "0            4  2013.000000       17.6  ...  24.96334  121.54767     1\n",
              "1            4  2013.000000        8.9  ...  24.95464  121.56627     1\n",
              "2            1  2013.583333        4.0  ...  24.96299  121.51284     1\n",
              "3            1  2013.500000       13.5  ...  24.96299  121.51284     1\n",
              "4            1  2013.500000        4.0  ...  24.96299  121.51284     1\n",
              "\n",
              "[5 rows x 8 columns]"
            ]
          },
          "metadata": {
            "tags": []
          },
          "execution_count": 11
        }
      ]
    },
    {
      "cell_type": "code",
      "metadata": {
        "id": "VTrNuQSJljoN",
        "colab_type": "code",
        "colab": {}
      },
      "source": [
        "query = \"\"\"\n",
        "SELECT *\n",
        "FROM `cryptic-honor-259622.house_price.train_l`;\n",
        "\"\"\"\n",
        "train_l = client_bq.query(query).to_dataframe()"
      ],
      "execution_count": 0,
      "outputs": []
    },
    {
      "cell_type": "code",
      "metadata": {
        "id": "LjcBY_1XmEfr",
        "colab_type": "code",
        "outputId": "c529473a-f675-4252-a735-648bf4b2cf97",
        "colab": {
          "base_uri": "https://localhost:8080/",
          "height": 204
        }
      },
      "source": [
        "train_l.head()"
      ],
      "execution_count": 13,
      "outputs": [
        {
          "output_type": "execute_result",
          "data": {
            "text/html": [
              "<div>\n",
              "<style scoped>\n",
              "    .dataframe tbody tr th:only-of-type {\n",
              "        vertical-align: middle;\n",
              "    }\n",
              "\n",
              "    .dataframe tbody tr th {\n",
              "        vertical-align: top;\n",
              "    }\n",
              "\n",
              "    .dataframe thead th {\n",
              "        text-align: right;\n",
              "    }\n",
              "</style>\n",
              "<table border=\"1\" class=\"dataframe\">\n",
              "  <thead>\n",
              "    <tr style=\"text-align: right;\">\n",
              "      <th></th>\n",
              "      <th>house_price</th>\n",
              "    </tr>\n",
              "  </thead>\n",
              "  <tbody>\n",
              "    <tr>\n",
              "      <th>0</th>\n",
              "      <td>13.0</td>\n",
              "    </tr>\n",
              "    <tr>\n",
              "      <th>1</th>\n",
              "      <td>15.5</td>\n",
              "    </tr>\n",
              "    <tr>\n",
              "      <th>2</th>\n",
              "      <td>19.0</td>\n",
              "    </tr>\n",
              "    <tr>\n",
              "      <th>3</th>\n",
              "      <td>20.0</td>\n",
              "    </tr>\n",
              "    <tr>\n",
              "      <th>4</th>\n",
              "      <td>22.0</td>\n",
              "    </tr>\n",
              "  </tbody>\n",
              "</table>\n",
              "</div>"
            ],
            "text/plain": [
              "   house_price\n",
              "0         13.0\n",
              "1         15.5\n",
              "2         19.0\n",
              "3         20.0\n",
              "4         22.0"
            ]
          },
          "metadata": {
            "tags": []
          },
          "execution_count": 13
        }
      ]
    },
    {
      "cell_type": "code",
      "metadata": {
        "id": "W6Usydv8ma13",
        "colab_type": "code",
        "outputId": "d810b3f5-6cdb-4d82-bfad-7576a3e67826",
        "colab": {
          "base_uri": "https://localhost:8080/",
          "height": 204
        }
      },
      "source": [
        "import pandas as pd\n",
        "train = pd.concat([train_f, train_l], axis=1 )\n",
        "train.head()\n"
      ],
      "execution_count": 14,
      "outputs": [
        {
          "output_type": "execute_result",
          "data": {
            "text/html": [
              "<div>\n",
              "<style scoped>\n",
              "    .dataframe tbody tr th:only-of-type {\n",
              "        vertical-align: middle;\n",
              "    }\n",
              "\n",
              "    .dataframe tbody tr th {\n",
              "        vertical-align: top;\n",
              "    }\n",
              "\n",
              "    .dataframe thead th {\n",
              "        text-align: right;\n",
              "    }\n",
              "</style>\n",
              "<table border=\"1\" class=\"dataframe\">\n",
              "  <thead>\n",
              "    <tr style=\"text-align: right;\">\n",
              "      <th></th>\n",
              "      <th>CENTROID_ID</th>\n",
              "      <th>trans_date</th>\n",
              "      <th>house_age</th>\n",
              "      <th>distance_mrt</th>\n",
              "      <th>stores</th>\n",
              "      <th>latitude</th>\n",
              "      <th>longitude</th>\n",
              "      <th>type</th>\n",
              "      <th>house_price</th>\n",
              "    </tr>\n",
              "  </thead>\n",
              "  <tbody>\n",
              "    <tr>\n",
              "      <th>0</th>\n",
              "      <td>4</td>\n",
              "      <td>2013.000000</td>\n",
              "      <td>17.6</td>\n",
              "      <td>837.7233</td>\n",
              "      <td>0</td>\n",
              "      <td>24.96334</td>\n",
              "      <td>121.54767</td>\n",
              "      <td>1</td>\n",
              "      <td>13.0</td>\n",
              "    </tr>\n",
              "    <tr>\n",
              "      <th>1</th>\n",
              "      <td>4</td>\n",
              "      <td>2013.000000</td>\n",
              "      <td>8.9</td>\n",
              "      <td>3078.1760</td>\n",
              "      <td>0</td>\n",
              "      <td>24.95464</td>\n",
              "      <td>121.56627</td>\n",
              "      <td>1</td>\n",
              "      <td>15.5</td>\n",
              "    </tr>\n",
              "    <tr>\n",
              "      <th>2</th>\n",
              "      <td>1</td>\n",
              "      <td>2013.583333</td>\n",
              "      <td>4.0</td>\n",
              "      <td>2147.3760</td>\n",
              "      <td>3</td>\n",
              "      <td>24.96299</td>\n",
              "      <td>121.51284</td>\n",
              "      <td>1</td>\n",
              "      <td>19.0</td>\n",
              "    </tr>\n",
              "    <tr>\n",
              "      <th>3</th>\n",
              "      <td>1</td>\n",
              "      <td>2013.500000</td>\n",
              "      <td>13.5</td>\n",
              "      <td>2147.3760</td>\n",
              "      <td>3</td>\n",
              "      <td>24.96299</td>\n",
              "      <td>121.51284</td>\n",
              "      <td>1</td>\n",
              "      <td>20.0</td>\n",
              "    </tr>\n",
              "    <tr>\n",
              "      <th>4</th>\n",
              "      <td>1</td>\n",
              "      <td>2013.500000</td>\n",
              "      <td>4.0</td>\n",
              "      <td>2147.3760</td>\n",
              "      <td>3</td>\n",
              "      <td>24.96299</td>\n",
              "      <td>121.51284</td>\n",
              "      <td>1</td>\n",
              "      <td>22.0</td>\n",
              "    </tr>\n",
              "  </tbody>\n",
              "</table>\n",
              "</div>"
            ],
            "text/plain": [
              "   CENTROID_ID   trans_date  house_age  ...  longitude  type  house_price\n",
              "0            4  2013.000000       17.6  ...  121.54767     1         13.0\n",
              "1            4  2013.000000        8.9  ...  121.56627     1         15.5\n",
              "2            1  2013.583333        4.0  ...  121.51284     1         19.0\n",
              "3            1  2013.500000       13.5  ...  121.51284     1         20.0\n",
              "4            1  2013.500000        4.0  ...  121.51284     1         22.0\n",
              "\n",
              "[5 rows x 9 columns]"
            ]
          },
          "metadata": {
            "tags": []
          },
          "execution_count": 14
        }
      ]
    },
    {
      "cell_type": "code",
      "metadata": {
        "id": "ZBaKb9nobw48",
        "colab_type": "code",
        "outputId": "39e5f620-cf41-43ef-a3e9-1b2c78207c26",
        "colab": {
          "base_uri": "https://localhost:8080/",
          "height": 204
        }
      },
      "source": [
        "query = \"\"\"\n",
        "WITH\n",
        "  stationstats AS (\n",
        "    SELECT\n",
        "      *, 1 AS type\n",
        "    FROM\n",
        "      `cryptic-honor-259622.house_price.train_f` AS train_f\n",
        "    UNION ALL\n",
        "    SELECT\n",
        "      *, 0 AS type\n",
        "    FROM\n",
        "      `cryptic-honor-259622.house_price.test` AS test\n",
        ")\n",
        "SELECT\n",
        "  * EXCEPT(nearest_centroids_distance)\n",
        "FROM\n",
        "  ML.PREDICT( MODEL house_price.hpcluster,\n",
        "    (\n",
        "    SELECT\n",
        "      *\n",
        "    FROM\n",
        "      stationstats  \n",
        ")) AS MLP\n",
        "WHERE\n",
        "MLP.type = 0\n",
        "\"\"\"\n",
        "test = client_bq.query(query).to_dataframe()\n",
        "test.head()"
      ],
      "execution_count": 15,
      "outputs": [
        {
          "output_type": "execute_result",
          "data": {
            "text/html": [
              "<div>\n",
              "<style scoped>\n",
              "    .dataframe tbody tr th:only-of-type {\n",
              "        vertical-align: middle;\n",
              "    }\n",
              "\n",
              "    .dataframe tbody tr th {\n",
              "        vertical-align: top;\n",
              "    }\n",
              "\n",
              "    .dataframe thead th {\n",
              "        text-align: right;\n",
              "    }\n",
              "</style>\n",
              "<table border=\"1\" class=\"dataframe\">\n",
              "  <thead>\n",
              "    <tr style=\"text-align: right;\">\n",
              "      <th></th>\n",
              "      <th>CENTROID_ID</th>\n",
              "      <th>trans_date</th>\n",
              "      <th>house_age</th>\n",
              "      <th>distance_mrt</th>\n",
              "      <th>stores</th>\n",
              "      <th>latitude</th>\n",
              "      <th>longitude</th>\n",
              "      <th>type</th>\n",
              "    </tr>\n",
              "  </thead>\n",
              "  <tbody>\n",
              "    <tr>\n",
              "      <th>0</th>\n",
              "      <td>4</td>\n",
              "      <td>2012.916667</td>\n",
              "      <td>18.9</td>\n",
              "      <td>1009.2350</td>\n",
              "      <td>0</td>\n",
              "      <td>24.96357</td>\n",
              "      <td>121.54951</td>\n",
              "      <td>0</td>\n",
              "    </tr>\n",
              "    <tr>\n",
              "      <th>1</th>\n",
              "      <td>4</td>\n",
              "      <td>2013.250000</td>\n",
              "      <td>35.8</td>\n",
              "      <td>170.7311</td>\n",
              "      <td>7</td>\n",
              "      <td>24.96719</td>\n",
              "      <td>121.54269</td>\n",
              "      <td>0</td>\n",
              "    </tr>\n",
              "    <tr>\n",
              "      <th>2</th>\n",
              "      <td>2</td>\n",
              "      <td>2012.666667</td>\n",
              "      <td>34.5</td>\n",
              "      <td>623.4731</td>\n",
              "      <td>7</td>\n",
              "      <td>24.97933</td>\n",
              "      <td>121.53642</td>\n",
              "      <td>0</td>\n",
              "    </tr>\n",
              "    <tr>\n",
              "      <th>3</th>\n",
              "      <td>2</td>\n",
              "      <td>2013.166667</td>\n",
              "      <td>39.2</td>\n",
              "      <td>424.7132</td>\n",
              "      <td>7</td>\n",
              "      <td>24.97429</td>\n",
              "      <td>121.53917</td>\n",
              "      <td>0</td>\n",
              "    </tr>\n",
              "    <tr>\n",
              "      <th>4</th>\n",
              "      <td>2</td>\n",
              "      <td>2012.916667</td>\n",
              "      <td>34.8</td>\n",
              "      <td>190.0392</td>\n",
              "      <td>8</td>\n",
              "      <td>24.97707</td>\n",
              "      <td>121.54312</td>\n",
              "      <td>0</td>\n",
              "    </tr>\n",
              "  </tbody>\n",
              "</table>\n",
              "</div>"
            ],
            "text/plain": [
              "   CENTROID_ID   trans_date  house_age  ...  latitude  longitude  type\n",
              "0            4  2012.916667       18.9  ...  24.96357  121.54951     0\n",
              "1            4  2013.250000       35.8  ...  24.96719  121.54269     0\n",
              "2            2  2012.666667       34.5  ...  24.97933  121.53642     0\n",
              "3            2  2013.166667       39.2  ...  24.97429  121.53917     0\n",
              "4            2  2012.916667       34.8  ...  24.97707  121.54312     0\n",
              "\n",
              "[5 rows x 8 columns]"
            ]
          },
          "metadata": {
            "tags": []
          },
          "execution_count": 15
        }
      ]
    },
    {
      "cell_type": "markdown",
      "metadata": {
        "id": "QEHQbH7FppqG",
        "colab_type": "text"
      },
      "source": [
        "## EDA\n"
      ]
    },
    {
      "cell_type": "code",
      "metadata": {
        "id": "KChl_99wpon0",
        "colab_type": "code",
        "colab": {}
      },
      "source": [
        "import seaborn as sns #visualisation\n",
        "import matplotlib.pyplot as plt #visualisation\n",
        "%matplotlib inline \n",
        "sns.set(color_codes=True)"
      ],
      "execution_count": 0,
      "outputs": []
    },
    {
      "cell_type": "code",
      "metadata": {
        "id": "KIkYNDEfrC-u",
        "colab_type": "code",
        "outputId": "5164c31f-f7a7-4047-8f92-2635d7fd23ad",
        "colab": {
          "base_uri": "https://localhost:8080/",
          "height": 192
        }
      },
      "source": [
        "# check missing data\n",
        "print(train.isnull().sum())"
      ],
      "execution_count": 17,
      "outputs": [
        {
          "output_type": "stream",
          "text": [
            "CENTROID_ID     0\n",
            "trans_date      0\n",
            "house_age       0\n",
            "distance_mrt    0\n",
            "stores          0\n",
            "latitude        0\n",
            "longitude       0\n",
            "type            0\n",
            "house_price     0\n",
            "dtype: int64\n"
          ],
          "name": "stdout"
        }
      ]
    },
    {
      "cell_type": "code",
      "metadata": {
        "id": "ogAzRUjErVIp",
        "colab_type": "code",
        "outputId": "ac86be77-48ed-4fd6-d519-9282fdc571a2",
        "colab": {
          "base_uri": "https://localhost:8080/",
          "height": 932
        }
      },
      "source": [
        "# check correlation between features\n",
        "plt.figure(figsize = (20, 15))\n",
        "c = train.corr()\n",
        "sns.heatmap(c, cmap=\"BrBG\", annot = True)"
      ],
      "execution_count": 18,
      "outputs": [
        {
          "output_type": "execute_result",
          "data": {
            "text/plain": [
              "<matplotlib.axes._subplots.AxesSubplot at 0x7efdb335a978>"
            ]
          },
          "metadata": {
            "tags": []
          },
          "execution_count": 18
        },
        {
          "output_type": "display_data",
          "data": {
            "image/png": "[encoded data removed]",
            "text/plain": [
              "<Figure size 1440x1080 with 2 Axes>"
            ]
          },
          "metadata": {
            "tags": []
          }
        }
      ]
    },
    {
      "cell_type": "code",
      "metadata": {
        "id": "yX4Zof0fr5Mt",
        "colab_type": "code",
        "outputId": "e5e0eea0-b10c-4668-8b4b-2e6793efc9b2",
        "colab": {
          "base_uri": "https://localhost:8080/",
          "height": 268
        }
      },
      "source": [
        "# distribution of house price\n",
        "num_bins = 10\n",
        "plt.hist(train['house_price'], num_bins, density = True, facecolor='blue', alpha=0.5)\n",
        "plt.show()"
      ],
      "execution_count": 19,
      "outputs": [
        {
          "output_type": "display_data",
          "data": {
            "image/png": "[encoded data removed]",
            "text/plain": [
              "<Figure size 432x288 with 1 Axes>"
            ]
          },
          "metadata": {
            "tags": []
          }
        }
      ]
    },
    {
      "cell_type": "code",
      "metadata": {
        "id": "ko2uOJ8vtfL_",
        "colab_type": "code",
        "outputId": "3aa2a3c0-2ff8-4f37-fd8b-9bcdfeabf227",
        "colab": {
          "base_uri": "https://localhost:8080/",
          "height": 617
        }
      },
      "source": [
        "import plotly.express as px\n",
        "train_plt = train.copy()\n",
        "train_plt[\"CENTROID_ID\"] = train_plt[\"CENTROID_ID\"].astype(str)\n",
        "fig = px.scatter_mapbox(train_plt, lat=\"latitude\", lon=\"longitude\", hover_name=\"house_price\",\n",
        "             zoom = 12, color = \"CENTROID_ID\",\n",
        ")\n",
        "fig.update_layout(mapbox_style = \"open-street-map\",\n",
        "         title = 'The Scatterplot of House Location',\n",
        "         geo_scope = 'asia',\n",
        "        )\n",
        "\n",
        "fig.show()"
      ],
      "execution_count": 21,
      "outputs": [
        {
          "output_type": "display_data",
          "data": {
            "text/html": [
              "<html>\n",
              "<head><meta charset=\"utf-8\" /></head>\n",
              "<body>\n",
              "    <div>\n",
              "            <script src=\"https://cdnjs.cloudflare.com/ajax/libs/mathjax/2.7.5/MathJax.js?config=TeX-AMS-MML_SVG\"></script><script type=\"text/javascript\">if (window.MathJax) {MathJax.Hub.Config({SVG: {font: \"STIX-Web\"}});}</script>\n",
              "                <script type=\"text/javascript\">window.PlotlyConfig = {MathJaxConfig: 'local'};</script>\n",
              "        <script src=\"https://cdn.plot.ly/plotly-latest.min.js\"></script>    \n",
              "            <div id=\"2a2277cc-6e14-4ede-84d3-1cddb081fb92\" class=\"plotly-graph-div\" style=\"height:600px; width:100%;\"></div>\n",
              "            <script type=\"text/javascript\">\n",
              "                \n",
              "                    window.PLOTLYENV=window.PLOTLYENV || {};\n",
              "                    \n",
              "                if (document.getElementById(\"2a2277cc-6e14-4ede-84d3-1cddb081fb92\")) {\n",
              "                    Plotly.newPlot(\n",
              "                        '2a2277cc-6e14-4ede-84d3-1cddb081fb92',\n",
              "                        [{\"hoverlabel\": {\"namelength\": 0}, \"hovertemplate\": \"<b>%{hovertext}</b><br><br>CENTROID_ID=4<br>latitude=%{lat}<br>longitude=%{lon}\", \"hovertext\": [13.0, 15.5, 44.0, 42.5, 42.5, 44.5, 20.5, 21.5, 23.5, 24.5, 25.5, 26.5, 26.5, 29.5, 51.0, 53.0, 55.0, 59.0, 55.5, 59.5, 61.5, 11.6, 50.4, 32.9, 17.7, 20.7, 27.7, 37.4, 51.4, 47.9, 53.9, 55.9, 40.3, 42.3, 12.2, 24.4, 73.6, 22.9, 23.1, 31.1, 32.2, 34.2, 34.2, 40.2, 44.2, 46.2, 48.2, 48.2, 52.2, 22.6, 25.6, 30.6, 30.6, 37.2, 41.2, 41.2, 43.2, 63.2, 35.7, 39.7, 39.7, 43.7, 45.7, 47.7, 49.7, 34.1, 48.1, 27.3, 31.3, 46.6, 48.6, 69.7, 33.1, 45.1, 15.4, 22.8, 28.8], \"lat\": [24.96334, 24.95464, 24.96305, 24.95425, 24.95425, 24.95674, 24.96674, 24.96674, 24.96674, 24.96515, 24.96515, 24.96515, 24.96515, 24.95562, 24.96305, 24.96871, 24.96398, 24.96674, 24.96571, 24.96571, 24.96571, 24.96725, 24.96735, 24.9675, 24.95836, 24.95836, 24.96867, 24.95495, 24.96357, 24.9512, 24.9512, 24.95182, 24.95468, 24.95153, 24.95394, 24.95505, 24.96211, 24.96696, 24.95425, 24.96674, 24.96674, 24.96674, 24.96674, 24.96674, 24.96515, 24.96515, 24.96515, 24.9663, 24.95593, 24.96431, 24.95663, 24.96581, 24.95618, 24.95618, 24.96571, 24.96495, 24.94935, 24.96606, 24.9675, 24.95744, 24.95744, 24.96772, 24.96772, 24.96735, 24.9496, 24.96756, 24.96881, 24.96853, 24.9492, 24.9489, 24.96165, 24.94883, 24.95155, 24.95204, 24.95182, 24.95402, 24.95505], \"legendgroup\": \"CENTROID_ID=4\", \"lon\": [121.54767, 121.56627, 121.54915, 121.5399, 121.5399, 121.534, 121.54067, 121.54067, 121.54067, 121.53737, 121.53737, 121.53737, 121.53737, 121.53872, 121.53758, 121.54651, 121.5425, 121.54039, 121.54089, 121.54089, 121.54089, 121.54252, 121.54464, 121.54451, 121.53756, 121.53756, 121.54331, 121.56174, 121.54951, 121.549, 121.549, 121.54887, 121.55481, 121.55254, 121.55174, 121.55964, 121.54928, 121.53992, 121.5399, 121.54067, 121.54067, 121.54067, 121.54067, 121.54067, 121.53737, 121.53737, 121.53737, 121.54026, 121.53913, 121.54063, 121.53765, 121.54086, 121.53844, 121.53844, 121.54089, 121.54277, 121.53046, 121.54297, 121.54069, 121.53711, 121.53711, 121.54102, 121.54102, 121.54464, 121.53018, 121.5423, 121.54089, 121.54413, 121.53076, 121.53095, 121.55011, 121.52954, 121.55387, 121.54842, 121.54887, 121.55282, 121.55964], \"marker\": {\"color\": \"#636efa\"}, \"mode\": \"markers\", \"name\": \"CENTROID_ID=4\", \"showlegend\": true, \"subplot\": \"mapbox\", \"type\": \"scattermapbox\"}, {\"hoverlabel\": {\"namelength\": 0}, \"hovertemplate\": \"<b>%{hovertext}</b><br><br>CENTROID_ID=1<br>latitude=%{lat}<br>longitude=%{lon}\", \"hovertext\": [19.0, 20.0, 22.0, 23.0, 25.0, 27.0, 42.0, 58.0, 36.5, 40.5, 42.5, 117.5, 39.0, 51.0, 38.4, 37.4, 41.4, 43.4, 47.4, 37.9, 14.7, 17.4, 40.8, 42.8, 54.8, 56.8, 56.8, 58.8, 70.1, 37.3, 47.3, 47.3, 49.3, 49.3, 53.3, 55.3, 63.3, 31.9, 37.8, 42.2, 62.2, 25.6, 40.1, 58.1, 27.3, 36.6, 38.6, 40.6, 46.6, 35.1, 41.1, 55.1, 57.1, 23.8, 23.8, 33.6, 51.6, 59.6], \"lat\": [24.96299, 24.96299, 24.96299, 24.96731, 24.9633, 24.95885, 24.96322, 24.96007, 24.94826, 24.96182, 24.95957, 24.93363, 24.94155, 24.94155, 24.93293, 24.94684, 24.94297, 24.94297, 24.94297, 24.93207, 24.96447, 24.96447, 24.96303, 24.96305, 24.96299, 24.96324, 24.96731, 24.96731, 24.96357, 24.96143, 24.96044, 24.96042, 24.96622, 24.96056, 24.96622, 24.96322, 24.96322, 24.96108, 24.96108, 24.94155, 24.94155, 24.94155, 24.93885, 24.93885, 24.93885, 24.94898, 24.94297, 24.94235, 24.94783, 24.95719, 24.94925, 24.95544, 24.95032, 24.95095, 24.94375, 24.96386, 24.96412, 24.96412], \"legendgroup\": \"CENTROID_ID=1\", \"lon\": [121.51284, 121.51284, 121.51284, 121.51486, 121.51243, 121.51359, 121.51237, 121.51361, 121.49587, 121.51222, 121.51353, 121.51158, 121.50381, 121.50381, 121.51203, 121.49578, 121.50342, 121.50342, 121.50342, 121.51597, 121.51649, 121.51649, 121.51254, 121.51254, 121.51284, 121.51241, 121.51486, 121.51486, 121.51329, 121.50827, 121.51462, 121.51462, 121.51709, 121.50831, 121.51668, 121.51237, 121.51237, 121.51046, 121.51046, 121.50381, 121.50381, 121.50381, 121.50383, 121.50383, 121.50383, 121.49621, 121.50342, 121.50357, 121.50243, 121.47353, 121.49542, 121.4963, 121.49587, 121.48458, 121.47883, 121.51458, 121.5167, 121.5167], \"marker\": {\"color\": \"#EF553B\"}, \"mode\": \"markers\", \"name\": \"CENTROID_ID=1\", \"showlegend\": true, \"subplot\": \"mapbox\", \"type\": \"scattermapbox\"}, {\"hoverlabel\": {\"namelength\": 0}, \"hovertemplate\": \"<b>%{hovertext}</b><br><br>CENTROID_ID=2<br>latitude=%{lat}<br>longitude=%{lon}\", \"hovertext\": [23.0, 27.0, 34.0, 42.0, 48.0, 36.5, 38.5, 42.5, 48.5, 52.5, 30.5, 30.5, 31.5, 37.0, 37.0, 41.0, 41.0, 47.0, 47.0, 49.0, 55.0, 35.5, 37.5, 37.5, 39.5, 43.5, 43.5, 53.5, 71.0, 18.2, 19.2, 32.4, 46.4, 54.4, 32.9, 36.9, 38.9, 40.9, 42.9, 62.9, 21.7, 23.7, 24.7, 24.7, 24.7, 25.7, 27.7, 27.7, 30.7, 30.7, 31.7, 39.4, 43.9, 45.9, 61.9, 36.3, 40.3, 42.3, 42.3, 11.2, 17.4, 21.4, 28.4, 38.8, 46.8, 35.3, 53.3, 63.3, 20.9, 23.9, 28.9, 30.9, 43.8, 49.8, 51.8, 51.8, 16.1, 28.1, 31.1, 52.2, 52.2, 34.7, 36.7, 36.7, 42.7, 44.7, 50.7, 52.7, 60.7, 12.8, 12.8, 13.8, 18.6, 23.6, 25.6, 26.6, 28.6, 43.2, 45.2, 37.7, 39.7, 47.7, 34.1, 34.1, 38.1, 38.1, 42.1, 46.1, 48.1, 58.1, 18.3, 18.3, 22.3, 22.3, 25.3, 27.3, 29.3, 29.3, 29.3, 31.3, 43.1, 45.1, 47.1, 13.4, 15.9, 18.8, 21.8, 21.8, 24.8, 39.6, 39.6], \"lat\": [24.97538, 24.97723, 24.97229, 24.97563, 24.97845, 24.98326, 24.97353, 24.97445, 24.98254, 24.97433, 24.98746, 24.98746, 24.98085, 24.98203, 24.98203, 24.98203, 24.98203, 24.98203, 24.97563, 24.97217, 24.97841, 24.9796, 24.97744, 24.97744, 24.97744, 24.97585, 24.97201, 24.97201, 24.98086, 24.97701, 24.97293, 24.98419, 24.97923, 24.97017, 24.97345, 24.98236, 24.9866, 24.97408, 24.97347, 24.98092, 24.98118, 24.98016, 24.97151, 24.97433, 24.97433, 24.97433, 24.98298, 24.98343, 24.983, 24.98298, 24.98123, 24.97281, 24.97153, 24.97371, 24.9748, 24.9711, 24.97544, 24.97349, 24.97519, 24.981, 24.97795, 24.97371, 24.97371, 24.97509, 24.97746, 24.97503, 24.97559, 24.97005, 24.97563, 24.97838, 24.97886, 24.97886, 24.97419, 24.974, 24.974, 24.97425, 24.97445, 24.98254, 24.97433, 24.97937, 24.97937, 24.98246, 24.98085, 24.98746, 24.98746, 24.98203, 24.98203, 24.98203, 24.98203, 24.98203, 24.98203, 24.97927, 24.97631, 24.97841, 24.97744, 24.97744, 24.98748, 24.97528, 24.9805, 24.97913, 24.98281, 24.98489, 24.98155, 24.97587, 24.97349, 24.98223, 24.97077, 24.98059, 24.972, 24.97433, 24.97433, 24.97433, 24.97433, 24.97433, 24.98353, 24.9703, 24.97697, 24.98343, 24.98322, 24.983, 24.97371, 24.97371, 24.9711, 24.97694, 24.9748, 24.9746, 24.97198, 24.97544, 24.98092, 24.9726, 24.97577], \"legendgroup\": \"CENTROID_ID=2\", \"lon\": [121.54971, 121.53767, 121.53445, 121.53715, 121.53889, 121.5446, 121.53885, 121.54765, 121.54395, 121.53863, 121.54391, 121.54391, 121.54391, 121.54348, 121.54348, 121.54348, 121.54348, 121.54348, 121.54694, 121.53471, 121.5428, 121.5414, 121.54458, 121.54458, 121.54458, 121.54516, 121.54722, 121.54722, 121.54162, 121.54224, 121.54026, 121.54243, 121.53986, 121.54494, 121.54093, 121.53923, 121.54082, 121.54011, 121.54271, 121.53653, 121.53788, 121.53932, 121.5435, 121.5431, 121.5431, 121.5431, 121.53981, 121.53762, 121.54022, 121.54024, 121.53743, 121.53265, 121.53559, 121.52984, 121.53059, 121.5317, 121.53119, 121.53451, 121.53151, 121.54713, 121.53451, 121.54951, 121.54951, 121.53644, 121.53299, 121.53692, 121.53713, 121.53758, 121.53715, 121.53477, 121.53464, 121.53464, 121.53797, 121.53842, 121.53842, 121.53814, 121.54765, 121.54395, 121.53863, 121.54245, 121.54245, 121.54477, 121.54391, 121.54391, 121.54391, 121.54348, 121.54348, 121.54348, 121.54348, 121.54348, 121.54348, 121.53874, 121.54436, 121.54281, 121.54458, 121.54458, 121.54301, 121.54541, 121.53778, 121.53666, 121.53408, 121.54121, 121.54142, 121.53913, 121.54245, 121.53597, 121.54634, 121.53986, 121.54477, 121.5431, 121.5431, 121.5431, 121.5431, 121.5431, 121.53966, 121.54458, 121.54262, 121.53762, 121.53765, 121.54026, 121.52984, 121.52984, 121.5317, 121.55391, 121.53059, 121.53046, 121.55063, 121.53119, 121.54739, 121.53561, 121.53475], \"marker\": {\"color\": \"#00cc96\"}, \"mode\": \"markers\", \"name\": \"CENTROID_ID=2\", \"showlegend\": true, \"subplot\": \"mapbox\", \"type\": \"scattermapbox\"}, {\"hoverlabel\": {\"namelength\": 0}, \"hovertemplate\": \"<b>%{hovertext}</b><br><br>CENTROID_ID=3<br>latitude=%{lat}<br>longitude=%{lon}\", \"hovertext\": [42.0, 44.0, 48.0, 45.5, 33.4, 37.4, 45.4, 36.3, 56.3, 29.4, 50.8, 26.9, 57.8, 22.1, 22.1, 23.1, 31.3, 34.6, 34.6, 40.6, 46.6, 41.6, 67.7], \"lat\": [24.97213, 24.97289, 24.97073, 24.98573, 24.998, 24.98569, 25.01459, 24.97501, 24.98672, 24.97542, 24.97285, 24.99156, 24.98872, 25.00115, 24.99176, 24.99176, 24.97843, 24.98569, 24.98569, 24.97668, 24.97668, 24.9832, 24.97026], \"legendgroup\": \"CENTROID_ID=3\", \"lon\": [121.51627, 121.51728, 121.517, 121.52758, 121.5155, 121.5276, 121.51816, 121.5273, 121.52091, 121.51726, 121.5173, 121.53406, 121.53411, 121.51776, 121.53456, 121.53456, 121.52406, 121.5276, 121.5276, 121.52518, 121.52518, 121.51812, 121.51642], \"marker\": {\"color\": \"#ab63fa\"}, \"mode\": \"markers\", \"name\": \"CENTROID_ID=3\", \"showlegend\": true, \"subplot\": \"mapbox\", \"type\": \"scattermapbox\"}],\n",
              "                        {\"geo\": {\"scope\": \"asia\"}, \"height\": 600, \"legend\": {\"tracegroupgap\": 0}, \"mapbox\": {\"center\": {\"lat\": 24.969056678200676, \"lon\": 121.5331102422146}, \"domain\": {\"x\": [0.0, 0.98], \"y\": [0.0, 1.0]}, \"style\": \"open-street-map\", \"zoom\": 12}, \"margin\": {\"t\": 60}, \"template\": {\"data\": {\"bar\": [{\"error_x\": {\"color\": \"#2a3f5f\"}, \"error_y\": {\"color\": \"#2a3f5f\"}, \"marker\": {\"line\": {\"color\": \"#E5ECF6\", \"width\": 0.5}}, \"type\": \"bar\"}], \"barpolar\": [{\"marker\": {\"line\": {\"color\": \"#E5ECF6\", \"width\": 0.5}}, \"type\": \"barpolar\"}], \"carpet\": [{\"aaxis\": {\"endlinecolor\": \"#2a3f5f\", \"gridcolor\": \"white\", \"linecolor\": \"white\", \"minorgridcolor\": \"white\", \"startlinecolor\": \"#2a3f5f\"}, \"baxis\": {\"endlinecolor\": \"#2a3f5f\", \"gridcolor\": \"white\", \"linecolor\": \"white\", \"minorgridcolor\": \"white\", \"startlinecolor\": \"#2a3f5f\"}, \"type\": \"carpet\"}], \"choropleth\": [{\"colorbar\": {\"outlinewidth\": 0, \"ticks\": \"\"}, \"type\": \"choropleth\"}], \"contour\": [{\"colorbar\": {\"outlinewidth\": 0, \"ticks\": \"\"}, \"colorscale\": [[0.0, \"#0d0887\"], [0.1111111111111111, \"#46039f\"], [0.2222222222222222, \"#7201a8\"], [0.3333333333333333, \"#9c179e\"], [0.4444444444444444, \"#bd3786\"], [0.5555555555555556, \"#d8576b\"], [0.6666666666666666, \"#ed7953\"], [0.7777777777777778, \"#fb9f3a\"], [0.8888888888888888, \"#fdca26\"], [1.0, \"#f0f921\"]], \"type\": \"contour\"}], \"contourcarpet\": [{\"colorbar\": {\"outlinewidth\": 0, \"ticks\": \"\"}, \"type\": \"contourcarpet\"}], \"heatmap\": [{\"colorbar\": {\"outlinewidth\": 0, \"ticks\": \"\"}, \"colorscale\": [[0.0, \"#0d0887\"], [0.1111111111111111, \"#46039f\"], [0.2222222222222222, \"#7201a8\"], [0.3333333333333333, \"#9c179e\"], [0.4444444444444444, \"#bd3786\"], [0.5555555555555556, \"#d8576b\"], [0.6666666666666666, \"#ed7953\"], [0.7777777777777778, \"#fb9f3a\"], [0.8888888888888888, \"#fdca26\"], [1.0, \"#f0f921\"]], \"type\": \"heatmap\"}], \"heatmapgl\": [{\"colorbar\": {\"outlinewidth\": 0, \"ticks\": \"\"}, \"colorscale\": [[0.0, \"#0d0887\"], [0.1111111111111111, \"#46039f\"], [0.2222222222222222, \"#7201a8\"], [0.3333333333333333, \"#9c179e\"], [0.4444444444444444, \"#bd3786\"], [0.5555555555555556, \"#d8576b\"], [0.6666666666666666, \"#ed7953\"], [0.7777777777777778, \"#fb9f3a\"], [0.8888888888888888, \"#fdca26\"], [1.0, \"#f0f921\"]], \"type\": \"heatmapgl\"}], \"histogram\": [{\"marker\": {\"colorbar\": {\"outlinewidth\": 0, \"ticks\": \"\"}}, \"type\": \"histogram\"}], \"histogram2d\": [{\"colorbar\": {\"outlinewidth\": 0, \"ticks\": \"\"}, \"colorscale\": [[0.0, \"#0d0887\"], [0.1111111111111111, \"#46039f\"], [0.2222222222222222, \"#7201a8\"], [0.3333333333333333, \"#9c179e\"], [0.4444444444444444, \"#bd3786\"], [0.5555555555555556, \"#d8576b\"], [0.6666666666666666, \"#ed7953\"], [0.7777777777777778, \"#fb9f3a\"], [0.8888888888888888, \"#fdca26\"], [1.0, \"#f0f921\"]], \"type\": \"histogram2d\"}], \"histogram2dcontour\": [{\"colorbar\": {\"outlinewidth\": 0, \"ticks\": \"\"}, \"colorscale\": [[0.0, \"#0d0887\"], [0.1111111111111111, \"#46039f\"], [0.2222222222222222, \"#7201a8\"], [0.3333333333333333, \"#9c179e\"], [0.4444444444444444, \"#bd3786\"], [0.5555555555555556, \"#d8576b\"], [0.6666666666666666, \"#ed7953\"], [0.7777777777777778, \"#fb9f3a\"], [0.8888888888888888, \"#fdca26\"], [1.0, \"#f0f921\"]], \"type\": \"histogram2dcontour\"}], \"mesh3d\": [{\"colorbar\": {\"outlinewidth\": 0, \"ticks\": \"\"}, \"type\": \"mesh3d\"}], \"parcoords\": [{\"line\": {\"colorbar\": {\"outlinewidth\": 0, \"ticks\": \"\"}}, \"type\": \"parcoords\"}], \"scatter\": [{\"marker\": {\"colorbar\": {\"outlinewidth\": 0, \"ticks\": \"\"}}, \"type\": \"scatter\"}], \"scatter3d\": [{\"line\": {\"colorbar\": {\"outlinewidth\": 0, \"ticks\": \"\"}}, \"marker\": {\"colorbar\": {\"outlinewidth\": 0, \"ticks\": \"\"}}, \"type\": \"scatter3d\"}], \"scattercarpet\": [{\"marker\": {\"colorbar\": {\"outlinewidth\": 0, \"ticks\": \"\"}}, \"type\": \"scattercarpet\"}], \"scattergeo\": [{\"marker\": {\"colorbar\": {\"outlinewidth\": 0, \"ticks\": \"\"}}, \"type\": \"scattergeo\"}], \"scattergl\": [{\"marker\": {\"colorbar\": {\"outlinewidth\": 0, \"ticks\": \"\"}}, \"type\": \"scattergl\"}], \"scattermapbox\": [{\"marker\": {\"colorbar\": {\"outlinewidth\": 0, \"ticks\": \"\"}}, \"type\": \"scattermapbox\"}], \"scatterpolar\": [{\"marker\": {\"colorbar\": {\"outlinewidth\": 0, \"ticks\": \"\"}}, \"type\": \"scatterpolar\"}], \"scatterpolargl\": [{\"marker\": {\"colorbar\": {\"outlinewidth\": 0, \"ticks\": \"\"}}, \"type\": \"scatterpolargl\"}], \"scatterternary\": [{\"marker\": {\"colorbar\": {\"outlinewidth\": 0, \"ticks\": \"\"}}, \"type\": \"scatterternary\"}], \"surface\": [{\"colorbar\": {\"outlinewidth\": 0, \"ticks\": \"\"}, \"colorscale\": [[0.0, \"#0d0887\"], [0.1111111111111111, \"#46039f\"], [0.2222222222222222, \"#7201a8\"], [0.3333333333333333, \"#9c179e\"], [0.4444444444444444, \"#bd3786\"], [0.5555555555555556, \"#d8576b\"], [0.6666666666666666, \"#ed7953\"], [0.7777777777777778, \"#fb9f3a\"], [0.8888888888888888, \"#fdca26\"], [1.0, \"#f0f921\"]], \"type\": \"surface\"}], \"table\": [{\"cells\": {\"fill\": {\"color\": \"#EBF0F8\"}, \"line\": {\"color\": \"white\"}}, \"header\": {\"fill\": {\"color\": \"#C8D4E3\"}, \"line\": {\"color\": \"white\"}}, \"type\": \"table\"}]}, \"layout\": {\"annotationdefaults\": {\"arrowcolor\": \"#2a3f5f\", \"arrowhead\": 0, \"arrowwidth\": 1}, \"colorscale\": {\"diverging\": [[0, \"#8e0152\"], [0.1, \"#c51b7d\"], [0.2, \"#de77ae\"], [0.3, \"#f1b6da\"], [0.4, \"#fde0ef\"], [0.5, \"#f7f7f7\"], [0.6, \"#e6f5d0\"], [0.7, \"#b8e186\"], [0.8, \"#7fbc41\"], [0.9, \"#4d9221\"], [1, \"#276419\"]], \"sequential\": [[0.0, \"#0d0887\"], [0.1111111111111111, \"#46039f\"], [0.2222222222222222, \"#7201a8\"], [0.3333333333333333, \"#9c179e\"], [0.4444444444444444, \"#bd3786\"], [0.5555555555555556, \"#d8576b\"], [0.6666666666666666, \"#ed7953\"], [0.7777777777777778, \"#fb9f3a\"], [0.8888888888888888, \"#fdca26\"], [1.0, \"#f0f921\"]], \"sequentialminus\": [[0.0, \"#0d0887\"], [0.1111111111111111, \"#46039f\"], [0.2222222222222222, \"#7201a8\"], [0.3333333333333333, \"#9c179e\"], [0.4444444444444444, \"#bd3786\"], [0.5555555555555556, \"#d8576b\"], [0.6666666666666666, \"#ed7953\"], [0.7777777777777778, \"#fb9f3a\"], [0.8888888888888888, \"#fdca26\"], [1.0, \"#f0f921\"]]}, \"colorway\": [\"#636efa\", \"#EF553B\", \"#00cc96\", \"#ab63fa\", \"#FFA15A\", \"#19d3f3\", \"#FF6692\", \"#B6E880\", \"#FF97FF\", \"#FECB52\"], \"font\": {\"color\": \"#2a3f5f\"}, \"geo\": {\"bgcolor\": \"white\", \"lakecolor\": \"white\", \"landcolor\": \"#E5ECF6\", \"showlakes\": true, \"showland\": true, \"subunitcolor\": \"white\"}, \"hoverlabel\": {\"align\": \"left\"}, \"hovermode\": \"closest\", \"mapbox\": {\"style\": \"light\"}, \"paper_bgcolor\": \"white\", \"plot_bgcolor\": \"#E5ECF6\", \"polar\": {\"angularaxis\": {\"gridcolor\": \"white\", \"linecolor\": \"white\", \"ticks\": \"\"}, \"bgcolor\": \"#E5ECF6\", \"radialaxis\": {\"gridcolor\": \"white\", \"linecolor\": \"white\", \"ticks\": \"\"}}, \"scene\": {\"xaxis\": {\"backgroundcolor\": \"#E5ECF6\", \"gridcolor\": \"white\", \"gridwidth\": 2, \"linecolor\": \"white\", \"showbackground\": true, \"ticks\": \"\", \"zerolinecolor\": \"white\"}, \"yaxis\": {\"backgroundcolor\": \"#E5ECF6\", \"gridcolor\": \"white\", \"gridwidth\": 2, \"linecolor\": \"white\", \"showbackground\": true, \"ticks\": \"\", \"zerolinecolor\": \"white\"}, \"zaxis\": {\"backgroundcolor\": \"#E5ECF6\", \"gridcolor\": \"white\", \"gridwidth\": 2, \"linecolor\": \"white\", \"showbackground\": true, \"ticks\": \"\", \"zerolinecolor\": \"white\"}}, \"shapedefaults\": {\"line\": {\"color\": \"#2a3f5f\"}}, \"ternary\": {\"aaxis\": {\"gridcolor\": \"white\", \"linecolor\": \"white\", \"ticks\": \"\"}, \"baxis\": {\"gridcolor\": \"white\", \"linecolor\": \"white\", \"ticks\": \"\"}, \"bgcolor\": \"#E5ECF6\", \"caxis\": {\"gridcolor\": \"white\", \"linecolor\": \"white\", \"ticks\": \"\"}}, \"title\": {\"x\": 0.05}, \"xaxis\": {\"automargin\": true, \"gridcolor\": \"white\", \"linecolor\": \"white\", \"ticks\": \"\", \"zerolinecolor\": \"white\", \"zerolinewidth\": 2}, \"yaxis\": {\"automargin\": true, \"gridcolor\": \"white\", \"linecolor\": \"white\", \"ticks\": \"\", \"zerolinecolor\": \"white\", \"zerolinewidth\": 2}}}, \"title\": {\"text\": \"The Scatterplot of House Location\"}},\n",
              "                        {\"responsive\": true}\n",
              "                    ).then(function(){\n",
              "                            \n",
              "var gd = document.getElementById('2a2277cc-6e14-4ede-84d3-1cddb081fb92');\n",
              "var x = new MutationObserver(function (mutations, observer) {{\n",
              "        var display = window.getComputedStyle(gd).display;\n",
              "        if (!display || display === 'none') {{\n",
              "            console.log([gd, 'removed!']);\n",
              "            Plotly.purge(gd);\n",
              "            observer.disconnect();\n",
              "        }}\n",
              "}});\n",
              "\n",
              "// Listen for the removal of the full notebook cells\n",
              "var notebookContainer = gd.closest('#notebook-container');\n",
              "if (notebookContainer) {{\n",
              "    x.observe(notebookContainer, {childList: true});\n",
              "}}\n",
              "\n",
              "// Listen for the clearing of the current output cell\n",
              "var outputEl = gd.closest('.output');\n",
              "if (outputEl) {{\n",
              "    x.observe(outputEl, {childList: true});\n",
              "}}\n",
              "\n",
              "                        })\n",
              "                };\n",
              "                \n",
              "            </script>\n",
              "        </div>\n",
              "</body>\n",
              "</html>"
            ]
          },
          "metadata": {
            "tags": []
          }
        }
      ]
    },
    {
      "cell_type": "code",
      "metadata": {
        "id": "RffpzOFYthuL",
        "colab_type": "code",
        "outputId": "78b69481-bdcf-4b1b-ee4b-175a3582b8ac",
        "colab": {
          "base_uri": "https://localhost:8080/",
          "height": 1000
        }
      },
      "source": [
        "!pip install datalab"
      ],
      "execution_count": 22,
      "outputs": [
        {
          "output_type": "stream",
          "text": [
            "Requirement already satisfied: datalab in /usr/local/lib/python3.6/dist-packages (1.1.5)\n",
            "Requirement already satisfied: urllib3>=1.22 in /usr/local/lib/python3.6/dist-packages (from datalab) (1.24.3)\n",
            "Requirement already satisfied: configparser>=3.5.0 in /usr/local/lib/python3.6/dist-packages (from datalab) (4.0.2)\n",
            "Requirement already satisfied: python-dateutil>=2.5.0 in /usr/local/lib/python3.6/dist-packages (from datalab) (2.6.1)\n",
            "Requirement already satisfied: pytz>=2015.4 in /usr/local/lib/python3.6/dist-packages (from datalab) (2018.9)\n",
            "Requirement already satisfied: pandas-profiling==1.4.0 in /usr/local/lib/python3.6/dist-packages (from datalab) (1.4.0)\n",
            "Requirement already satisfied: mock>=2.0.0 in /usr/local/lib/python3.6/dist-packages (from datalab) (3.0.5)\n",
            "Requirement already satisfied: ipykernel>=4.5.2 in /usr/local/lib/python3.6/dist-packages (from datalab) (4.6.1)\n",
            "Requirement already satisfied: seaborn>=0.7.0 in /usr/local/lib/python3.6/dist-packages (from datalab) (0.9.0)\n",
            "Requirement already satisfied: google-api-core>=1.10.0 in /usr/local/lib/python3.6/dist-packages (from datalab) (1.14.3)\n",
            "Requirement already satisfied: google-api-python-client>=1.6.2 in /usr/local/lib/python3.6/dist-packages (from datalab) (1.7.11)\n",
            "Requirement already satisfied: jsonschema>=2.6.0 in /usr/local/lib/python3.6/dist-packages (from datalab) (2.6.0)\n",
            "Requirement already satisfied: pandas>=0.22.0 in /usr/local/lib/python3.6/dist-packages (from datalab) (0.25.3)\n",
            "Requirement already satisfied: psutil>=4.3.0 in /usr/local/lib/python3.6/dist-packages (from datalab) (5.4.8)\n",
            "Requirement already satisfied: scikit-learn>=0.18.2 in /usr/local/lib/python3.6/dist-packages (from datalab) (0.21.3)\n",
            "Requirement already satisfied: httplib2>=0.10.3 in /usr/local/lib/python3.6/dist-packages (from datalab) (0.11.3)\n",
            "Requirement already satisfied: requests>=2.9.1 in /usr/local/lib/python3.6/dist-packages (from datalab) (2.21.0)\n",
            "Requirement already satisfied: pyyaml>=3.11 in /usr/local/lib/python3.6/dist-packages (from datalab) (3.13)\n",
            "Requirement already satisfied: future>=0.16.0 in /usr/local/lib/python3.6/dist-packages (from datalab) (0.16.0)\n",
            "Requirement already satisfied: six>=1.10.0 in /usr/local/lib/python3.6/dist-packages (from datalab) (1.12.0)\n",
            "Requirement already satisfied: google-auth-httplib2>=0.0.2 in /usr/local/lib/python3.6/dist-packages (from datalab) (0.0.3)\n",
            "Requirement already satisfied: scikit-image>=0.13.0 in /usr/local/lib/python3.6/dist-packages (from datalab) (0.15.0)\n",
            "Requirement already satisfied: oauth2client>=2.2.0 in /usr/local/lib/python3.6/dist-packages (from datalab) (4.1.3)\n",
            "Requirement already satisfied: google-cloud-monitoring==0.31.1 in /usr/local/lib/python3.6/dist-packages (from datalab) (0.31.1)\n",
            "Requirement already satisfied: plotly>=1.12.5 in /usr/local/lib/python3.6/dist-packages (from datalab) (4.1.1)\n",
            "Requirement already satisfied: jinja2>=2.8 in /usr/local/lib/python3.6/dist-packages (from pandas-profiling==1.4.0->datalab) (2.10.3)\n",
            "Requirement already satisfied: matplotlib>=1.4 in /usr/local/lib/python3.6/dist-packages (from pandas-profiling==1.4.0->datalab) (3.1.1)\n",
            "Requirement already satisfied: tornado>=4.0 in /usr/local/lib/python3.6/dist-packages (from ipykernel>=4.5.2->datalab) (4.5.3)\n",
            "Requirement already satisfied: jupyter-client in /usr/local/lib/python3.6/dist-packages (from ipykernel>=4.5.2->datalab) (5.3.4)\n",
            "Requirement already satisfied: ipython>=4.0.0 in /usr/local/lib/python3.6/dist-packages (from ipykernel>=4.5.2->datalab) (5.5.0)\n",
            "Requirement already satisfied: traitlets>=4.1.0 in /usr/local/lib/python3.6/dist-packages (from ipykernel>=4.5.2->datalab) (4.3.3)\n",
            "Requirement already satisfied: scipy>=0.14.0 in /usr/local/lib/python3.6/dist-packages (from seaborn>=0.7.0->datalab) (1.3.2)\n",
            "Requirement already satisfied: numpy>=1.9.3 in /usr/local/lib/python3.6/dist-packages (from seaborn>=0.7.0->datalab) (1.17.4)\n",
            "Requirement already satisfied: googleapis-common-protos<2.0dev,>=1.6.0 in /usr/local/lib/python3.6/dist-packages (from google-api-core>=1.10.0->datalab) (1.6.0)\n",
            "Requirement already satisfied: google-auth<2.0dev,>=0.4.0 in /usr/local/lib/python3.6/dist-packages (from google-api-core>=1.10.0->datalab) (1.4.2)\n",
            "Requirement already satisfied: protobuf>=3.4.0 in /usr/local/lib/python3.6/dist-packages (from google-api-core>=1.10.0->datalab) (3.10.0)\n",
            "Requirement already satisfied: setuptools>=34.0.0 in /usr/local/lib/python3.6/dist-packages (from google-api-core>=1.10.0->datalab) (41.6.0)\n",
            "Requirement already satisfied: uritemplate<4dev,>=3.0.0 in /usr/local/lib/python3.6/dist-packages (from google-api-python-client>=1.6.2->datalab) (3.0.0)\n",
            "Requirement already satisfied: joblib>=0.11 in /usr/local/lib/python3.6/dist-packages (from scikit-learn>=0.18.2->datalab) (0.14.0)\n",
            "Requirement already satisfied: certifi>=2017.4.17 in /usr/local/lib/python3.6/dist-packages (from requests>=2.9.1->datalab) (2019.9.11)\n",
            "Requirement already satisfied: idna<2.9,>=2.5 in /usr/local/lib/python3.6/dist-packages (from requests>=2.9.1->datalab) (2.8)\n",
            "Requirement already satisfied: chardet<3.1.0,>=3.0.2 in /usr/local/lib/python3.6/dist-packages (from requests>=2.9.1->datalab) (3.0.4)\n",
            "Requirement already satisfied: pillow>=4.3.0 in /usr/local/lib/python3.6/dist-packages (from scikit-image>=0.13.0->datalab) (4.3.0)\n",
            "Requirement already satisfied: imageio>=2.0.1 in /usr/local/lib/python3.6/dist-packages (from scikit-image>=0.13.0->datalab) (2.4.1)\n",
            "Requirement already satisfied: PyWavelets>=0.4.0 in /usr/local/lib/python3.6/dist-packages (from scikit-image>=0.13.0->datalab) (1.1.1)\n",
            "Requirement already satisfied: networkx>=2.0 in /usr/local/lib/python3.6/dist-packages (from scikit-image>=0.13.0->datalab) (2.4)\n",
            "Requirement already satisfied: pyasn1-modules>=0.0.5 in /usr/local/lib/python3.6/dist-packages (from oauth2client>=2.2.0->datalab) (0.2.7)\n",
            "Requirement already satisfied: rsa>=3.1.4 in /usr/local/lib/python3.6/dist-packages (from oauth2client>=2.2.0->datalab) (4.0)\n",
            "Requirement already satisfied: pyasn1>=0.1.7 in /usr/local/lib/python3.6/dist-packages (from oauth2client>=2.2.0->datalab) (0.4.7)\n",
            "Requirement already satisfied: retrying>=1.3.3 in /usr/local/lib/python3.6/dist-packages (from plotly>=1.12.5->datalab) (1.3.3)\n",
            "Requirement already satisfied: MarkupSafe>=0.23 in /usr/local/lib/python3.6/dist-packages (from jinja2>=2.8->pandas-profiling==1.4.0->datalab) (1.1.1)\n",
            "Requirement already satisfied: pyparsing!=2.0.4,!=2.1.2,!=2.1.6,>=2.0.1 in /usr/local/lib/python3.6/dist-packages (from matplotlib>=1.4->pandas-profiling==1.4.0->datalab) (2.4.5)\n",
            "Requirement already satisfied: cycler>=0.10 in /usr/local/lib/python3.6/dist-packages (from matplotlib>=1.4->pandas-profiling==1.4.0->datalab) (0.10.0)\n",
            "Requirement already satisfied: kiwisolver>=1.0.1 in /usr/local/lib/python3.6/dist-packages (from matplotlib>=1.4->pandas-profiling==1.4.0->datalab) (1.1.0)\n",
            "Requirement already satisfied: jupyter-core>=4.6.0 in /usr/local/lib/python3.6/dist-packages (from jupyter-client->ipykernel>=4.5.2->datalab) (4.6.1)\n",
            "Requirement already satisfied: pyzmq>=13 in /usr/local/lib/python3.6/dist-packages (from jupyter-client->ipykernel>=4.5.2->datalab) (17.0.0)\n",
            "Requirement already satisfied: decorator in /usr/local/lib/python3.6/dist-packages (from ipython>=4.0.0->ipykernel>=4.5.2->datalab) (4.4.1)\n",
            "Requirement already satisfied: pickleshare in /usr/local/lib/python3.6/dist-packages (from ipython>=4.0.0->ipykernel>=4.5.2->datalab) (0.7.5)\n",
            "Requirement already satisfied: simplegeneric>0.8 in /usr/local/lib/python3.6/dist-packages (from ipython>=4.0.0->ipykernel>=4.5.2->datalab) (0.8.1)\n",
            "Requirement already satisfied: pexpect; sys_platform != \"win32\" in /usr/local/lib/python3.6/dist-packages (from ipython>=4.0.0->ipykernel>=4.5.2->datalab) (4.7.0)\n",
            "Requirement already satisfied: prompt-toolkit<2.0.0,>=1.0.4 in /usr/local/lib/python3.6/dist-packages (from ipython>=4.0.0->ipykernel>=4.5.2->datalab) (1.0.18)\n",
            "Requirement already satisfied: pygments in /usr/local/lib/python3.6/dist-packages (from ipython>=4.0.0->ipykernel>=4.5.2->datalab) (2.1.3)\n",
            "Requirement already satisfied: ipython-genutils in /usr/local/lib/python3.6/dist-packages (from traitlets>=4.1.0->ipykernel>=4.5.2->datalab) (0.2.0)\n",
            "Requirement already satisfied: cachetools>=2.0.0 in /usr/local/lib/python3.6/dist-packages (from google-auth<2.0dev,>=0.4.0->google-api-core>=1.10.0->datalab) (3.1.1)\n",
            "Requirement already satisfied: olefile in /usr/local/lib/python3.6/dist-packages (from pillow>=4.3.0->scikit-image>=0.13.0->datalab) (0.46)\n",
            "Requirement already satisfied: ptyprocess>=0.5 in /usr/local/lib/python3.6/dist-packages (from pexpect; sys_platform != \"win32\"->ipython>=4.0.0->ipykernel>=4.5.2->datalab) (0.6.0)\n",
            "Requirement already satisfied: wcwidth in /usr/local/lib/python3.6/dist-packages (from prompt-toolkit<2.0.0,>=1.0.4->ipython>=4.0.0->ipykernel>=4.5.2->datalab) (0.1.7)\n"
          ],
          "name": "stdout"
        }
      ]
    },
    {
      "cell_type": "code",
      "metadata": {
        "id": "q4by9TY86rVV",
        "colab_type": "code",
        "colab": {
          "base_uri": "https://localhost:8080/",
          "height": 17
        },
        "outputId": "69ddd891-57a2-4263-989c-de9ac0a6c8fa"
      },
      "source": [
        "from IPython.core.display import HTML\n",
        "HTML(\"<script>Jupyter.notebook.kernel.restart()</script>\")"
      ],
      "execution_count": 23,
      "outputs": [
        {
          "output_type": "execute_result",
          "data": {
            "text/html": [
              "<script>Jupyter.notebook.kernel.restart()</script>"
            ],
            "text/plain": [
              "<IPython.core.display.HTML object>"
            ]
          },
          "metadata": {
            "tags": []
          },
          "execution_count": 23
        }
      ]
    },
    {
      "cell_type": "code",
      "metadata": {
        "id": "oVPbh0eM0paV",
        "colab_type": "code",
        "colab": {}
      },
      "source": [
        "# export train test data to gsc\n",
        "import datalab.storage as gcs\n",
        "gcs.Bucket('final_5671').item('train.csv').write_to(train.to_csv(), 'text/csv')\n",
        "gcs.Bucket('final_5671').item('test.csv').write_to(test.to_csv(), 'text/csv')"
      ],
      "execution_count": 0,
      "outputs": []
    },
    {
      "cell_type": "code",
      "metadata": {
        "id": "-mTajVgM45VN",
        "colab_type": "code",
        "colab": {}
      },
      "source": [
        ""
      ],
      "execution_count": 0,
      "outputs": []
    },
    {
      "cell_type": "code",
      "metadata": {
        "id": "pxe9ljXN3J96",
        "colab_type": "code",
        "colab": {}
      },
      "source": [
        ""
      ],
      "execution_count": 0,
      "outputs": []
    },
    {
      "cell_type": "markdown",
      "metadata": {
        "id": "TjPCHheC49z4",
        "colab_type": "text"
      },
      "source": [
        "## Model\n"
      ]
    },
    {
      "cell_type": "code",
      "metadata": {
        "id": "McfUleEy4-1Z",
        "colab_type": "code",
        "colab": {
          "base_uri": "https://localhost:8080/",
          "height": 32
        },
        "outputId": "9286f374-9dd1-489f-a65b-16679b45a4c4"
      },
      "source": [
        "%%bigquery --project cryptic-honor-259622\n",
        "#create linear regression model\n",
        "CREATE MODEL `data.lr_model`\n",
        "OPTIONS\n",
        "  (model_type='linear_reg',\n",
        "    input_label_cols=['house_price']) AS\n",
        "SELECT\n",
        "  house_price,\n",
        "  CAST(CENTROID_ID AS STRING) AS CENTROID_ID,\n",
        "  house_age,\n",
        "  distance_mrt,\n",
        "  stores\n",
        "FROM\n",
        "  `cryptic-honor-259622.data.train`"
      ],
      "execution_count": 26,
      "outputs": [
        {
          "output_type": "execute_result",
          "data": {
            "text/html": [
              "<div>\n",
              "<style scoped>\n",
              "    .dataframe tbody tr th:only-of-type {\n",
              "        vertical-align: middle;\n",
              "    }\n",
              "\n",
              "    .dataframe tbody tr th {\n",
              "        vertical-align: top;\n",
              "    }\n",
              "\n",
              "    .dataframe thead th {\n",
              "        text-align: right;\n",
              "    }\n",
              "</style>\n",
              "<table border=\"1\" class=\"dataframe\">\n",
              "  <thead>\n",
              "    <tr style=\"text-align: right;\">\n",
              "      <th></th>\n",
              "    </tr>\n",
              "  </thead>\n",
              "  <tbody>\n",
              "  </tbody>\n",
              "</table>\n",
              "</div>"
            ],
            "text/plain": [
              "Empty DataFrame\n",
              "Columns: []\n",
              "Index: []"
            ]
          },
          "metadata": {
            "tags": []
          },
          "execution_count": 26
        }
      ]
    },
    {
      "cell_type": "code",
      "metadata": {
        "id": "5XCRyEpx8TTy",
        "colab_type": "code",
        "colab": {
          "base_uri": "https://localhost:8080/",
          "height": 80
        },
        "outputId": "09c5a627-ace0-49be-abe5-bda7586bbef6"
      },
      "source": [
        "%%bigquery --project cryptic-honor-259622\n",
        "#evalue model\n",
        "SELECT\n",
        "  *\n",
        "FROM\n",
        "  ML.EVALUATE(MODEL `data.lr_model`,\n",
        "    (\n",
        "    SELECT\n",
        "      house_price,\n",
        "      CAST(CENTROID_ID AS STRING) AS CENTROID_ID,\n",
        "      house_age,\n",
        "      distance_mrt,\n",
        "      stores\n",
        "    FROM\n",
        "`cryptic-honor-259622.data.train`))"
      ],
      "execution_count": 27,
      "outputs": [
        {
          "output_type": "execute_result",
          "data": {
            "text/html": [
              "<div>\n",
              "<style scoped>\n",
              "    .dataframe tbody tr th:only-of-type {\n",
              "        vertical-align: middle;\n",
              "    }\n",
              "\n",
              "    .dataframe tbody tr th {\n",
              "        vertical-align: top;\n",
              "    }\n",
              "\n",
              "    .dataframe thead th {\n",
              "        text-align: right;\n",
              "    }\n",
              "</style>\n",
              "<table border=\"1\" class=\"dataframe\">\n",
              "  <thead>\n",
              "    <tr style=\"text-align: right;\">\n",
              "      <th></th>\n",
              "      <th>mean_absolute_error</th>\n",
              "      <th>mean_squared_error</th>\n",
              "      <th>mean_squared_log_error</th>\n",
              "      <th>median_absolute_error</th>\n",
              "      <th>r2_score</th>\n",
              "      <th>explained_variance</th>\n",
              "    </tr>\n",
              "  </thead>\n",
              "  <tbody>\n",
              "    <tr>\n",
              "      <th>0</th>\n",
              "      <td>10.512136</td>\n",
              "      <td>180.274361</td>\n",
              "      <td>0.138993</td>\n",
              "      <td>8.713106</td>\n",
              "      <td>0.053412</td>\n",
              "      <td>0.053412</td>\n",
              "    </tr>\n",
              "  </tbody>\n",
              "</table>\n",
              "</div>"
            ],
            "text/plain": [
              "   mean_absolute_error  mean_squared_error  ...  r2_score  explained_variance\n",
              "0            10.512136          180.274361  ...  0.053412            0.053412\n",
              "\n",
              "[1 rows x 6 columns]"
            ]
          },
          "metadata": {
            "tags": []
          },
          "execution_count": 27
        }
      ]
    },
    {
      "cell_type": "code",
      "metadata": {
        "id": "2RGXYVp08imU",
        "colab_type": "code",
        "colab": {
          "base_uri": "https://localhost:8080/",
          "height": 419
        },
        "outputId": "60363e97-62ca-4c9c-c9fd-0d323593f6bd"
      },
      "source": [
        "%%bigquery --project cryptic-honor-259622\n",
        "#predict house_price\n",
        "SELECT\n",
        "  predicted_house_price\n",
        "FROM\n",
        "  ML.PREDICT(MODEL `data.lr_model`,\n",
        "    (\n",
        "    SELECT\n",
        "      CAST(CENTROID_ID AS STRING) AS CENTROID_ID,\n",
        "      house_age,\n",
        "      distance_mrt,\n",
        "      stores\n",
        "    FROM\n",
        "      `cryptic-honor-259622.data.test`))"
      ],
      "execution_count": 29,
      "outputs": [
        {
          "output_type": "execute_result",
          "data": {
            "text/html": [
              "<div>\n",
              "<style scoped>\n",
              "    .dataframe tbody tr th:only-of-type {\n",
              "        vertical-align: middle;\n",
              "    }\n",
              "\n",
              "    .dataframe tbody tr th {\n",
              "        vertical-align: top;\n",
              "    }\n",
              "\n",
              "    .dataframe thead th {\n",
              "        text-align: right;\n",
              "    }\n",
              "</style>\n",
              "<table border=\"1\" class=\"dataframe\">\n",
              "  <thead>\n",
              "    <tr style=\"text-align: right;\">\n",
              "      <th></th>\n",
              "      <th>predicted_house_price</th>\n",
              "    </tr>\n",
              "  </thead>\n",
              "  <tbody>\n",
              "    <tr>\n",
              "      <th>0</th>\n",
              "      <td>41.925076</td>\n",
              "    </tr>\n",
              "    <tr>\n",
              "      <th>1</th>\n",
              "      <td>41.995461</td>\n",
              "    </tr>\n",
              "    <tr>\n",
              "      <th>2</th>\n",
              "      <td>40.610980</td>\n",
              "    </tr>\n",
              "    <tr>\n",
              "      <th>3</th>\n",
              "      <td>41.943779</td>\n",
              "    </tr>\n",
              "    <tr>\n",
              "      <th>4</th>\n",
              "      <td>41.688633</td>\n",
              "    </tr>\n",
              "    <tr>\n",
              "      <th>...</th>\n",
              "      <td>...</td>\n",
              "    </tr>\n",
              "    <tr>\n",
              "      <th>120</th>\n",
              "      <td>33.213436</td>\n",
              "    </tr>\n",
              "    <tr>\n",
              "      <th>121</th>\n",
              "      <td>34.474323</td>\n",
              "    </tr>\n",
              "    <tr>\n",
              "      <th>122</th>\n",
              "      <td>34.872246</td>\n",
              "    </tr>\n",
              "    <tr>\n",
              "      <th>123</th>\n",
              "      <td>34.925402</td>\n",
              "    </tr>\n",
              "    <tr>\n",
              "      <th>124</th>\n",
              "      <td>32.033068</td>\n",
              "    </tr>\n",
              "  </tbody>\n",
              "</table>\n",
              "<p>125 rows × 1 columns</p>\n",
              "</div>"
            ],
            "text/plain": [
              "     predicted_house_price\n",
              "0                41.925076\n",
              "1                41.995461\n",
              "2                40.610980\n",
              "3                41.943779\n",
              "4                41.688633\n",
              "..                     ...\n",
              "120              33.213436\n",
              "121              34.474323\n",
              "122              34.872246\n",
              "123              34.925402\n",
              "124              32.033068\n",
              "\n",
              "[125 rows x 1 columns]"
            ]
          },
          "metadata": {
            "tags": []
          },
          "execution_count": 29
        }
      ]
    }
  ]
}