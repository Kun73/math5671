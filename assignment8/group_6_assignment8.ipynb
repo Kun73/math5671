{
 "cells": [
  {
   "cell_type": "code",
   "execution_count": 1,
   "metadata": {},
   "outputs": [
    {
     "data": {
      "text/plain": [
       "'1,1,1,76,2.99 ,2005/5/25 11:30,2006/2/15 22:12'"
      ]
     },
     "execution_count": 1,
     "metadata": {},
     "output_type": "execute_result"
    }
   ],
   "source": [
    "from pyspark import SparkContext, SparkConf\n",
    "import collections\n",
    "import os\n",
    "os.environ[\"JAVA_HOME\"] = \"C:\\\\Program Files\\\\Java\\\\jdk1.8.0_231\"\n",
    "os.environ[\"SPARK_HOME\"] = \"C:\\\\Users\\\\yizho\\\\Downloads\\\\spark-2.4.4-bin-hadoop2.7\\\\spark-2.4.4-bin-hadoop2.7\"\n",
    "os.environ['HADOOP_HOME'] = \"C:\\\\winutils\"\n",
    "conf = SparkConf().setMaster(\"local\").setAppName(\"payment\")\n",
    "sc = SparkContext(conf=conf)\n",
    "sc.parallelize([0, 2, 3, 4, 6], 5).glom().collect()\n",
    "lines = sc.textFile(\"C:/Users/yizho/PycharmProjects/HW8/payment.csv\")\n",
    "noHeaderRDD = lines.zipWithIndex().filter(lambda row_index: row_index[1] > 0).keys()\n",
    "noHeaderRDD.first()"
   ]
  },
  {
   "cell_type": "code",
   "execution_count": 2,
   "metadata": {},
   "outputs": [
    {
     "name": "stdout",
     "output_type": "stream",
     "text": [
      "('200505', 4.169775280898756)\n",
      "('200506', 4.166038062283568)\n",
      "('200507', 4.22796751601904)\n",
      "('200508', 4.232834534904548)\n",
      "('200602', 2.8251648351648404)\n"
     ]
    }
   ],
   "source": [
    "def parseLine(line):\n",
    "    fields = line.split(',')\n",
    "    datetimedata = fields[5]\n",
    "    datetimearray = datetimedata.split('/')\n",
    "    monthyear = datetimearray[0]+'0'+datetimearray[1]\n",
    "    adjclose = float(fields[4])\n",
    "    return (monthyear, adjclose)\n",
    "\n",
    "\n",
    "rdd = noHeaderRDD.map(parseLine)\n",
    "rdd.first()\n",
    "rdd.mapValues(lambda x: (x, 1)).first()\n",
    "priceByMonthYear = rdd.mapValues(lambda x: (x, 1)).reduceByKey(lambda x, y: (x[0] + y[0], x[1] + y[1]))\n",
    "averagesByMonthYear = priceByMonthYear.mapValues(lambda x: x[0] / x[1])\n",
    "results = averagesByMonthYear.collect()\n",
    "for result in results:\n",
    "    print (result)"
   ]
  },
  {
   "cell_type": "code",
   "execution_count": 5,
   "metadata": {},
   "outputs": [
    {
     "name": "stdout",
     "output_type": "stream",
     "text": [
      "('1', 118.67999999999992)\n",
      "('2', 128.72999999999993)\n",
      "('3', 135.73999999999998)\n"
     ]
    }
   ],
   "source": [
    "def customid(line):\n",
    "    fields = line.split(',')\n",
    "    adjclose = float(fields[4])\n",
    "    customid = fields[1]\n",
    "    return (customid, adjclose)\n",
    "\n",
    "\n",
    "rdd = noHeaderRDD.map(customid)\n",
    "rdd.first()\n",
    "customtotalpayment = rdd.reduceByKey(lambda x,y : x + y)\n",
    "results = customtotalpayment.collect()\n",
    "for i in range(3):\n",
    "    print (results[i])"
   ]
  },
  {
   "cell_type": "code",
   "execution_count": 6,
   "metadata": {},
   "outputs": [
    {
     "name": "stdout",
     "output_type": "stream",
     "text": [
      "('1', 33489.470000005174)\n",
      "('2', 33927.04000000482)\n"
     ]
    }
   ],
   "source": [
    "def staffid(line):\n",
    "    fields = line.split(',')\n",
    "    adjclose = float(fields[4])\n",
    "    staffid = fields[2]\n",
    "    return (staffid, adjclose)\n",
    "\n",
    "\n",
    "rdd = noHeaderRDD.map(staffid)\n",
    "rdd.first()\n",
    "stafftotalpayment = rdd.reduceByKey(lambda x,y : x + y)\n",
    "results = stafftotalpayment.collect()\n",
    "for result in results:\n",
    "    print (result)"
   ]
  },
  {
   "cell_type": "code",
   "execution_count": 7,
   "metadata": {},
   "outputs": [
    {
     "name": "stdout",
     "output_type": "stream",
     "text": [
      "(('200505', '1'), 1.9900000000000002)\n",
      "(('200506', '1'), 4.561428571428571)\n",
      "(('200507', '1'), 4.240000000000001)\n",
      "(('200508', '1'), 2.899090909090909)\n",
      "(('200505', '2'), 4.99)\n",
      "(('200506', '2'), 2.99)\n",
      "(('200507', '2'), 5.418571428571428)\n",
      "(('200508', '2'), 4.080909090909092)\n"
     ]
    }
   ],
   "source": [
    "def parseLine2(line):\n",
    "    fields = line.split(',')\n",
    "    datetimedata = fields[5]\n",
    "    datetimearray = datetimedata.split('/')\n",
    "    monthyear = datetimearray[0] + '0' + datetimearray[1]\n",
    "    adjclose = float(fields[4])\n",
    "    customid = fields[1]\n",
    "    return ((monthyear, customid), adjclose)\n",
    "\n",
    "rdd = noHeaderRDD.map(parseLine2)\n",
    "rdd.first()\n",
    "rdd.mapValues(lambda x: (x, 1)).first()\n",
    "priceByMonthYear = rdd.mapValues(lambda x: (x, 1)).reduceByKey(lambda x, y: (x[0] + y[0], x[1] + y[1]))\n",
    "averagesByMonthYear = priceByMonthYear.mapValues(lambda x: x[0] / x[1])\n",
    "results = averagesByMonthYear.collect()\n",
    "for i in range(8):\n",
    "    print(results[i])"
   ]
  },
  {
   "cell_type": "code",
   "execution_count": null,
   "metadata": {},
   "outputs": [],
   "source": []
  }
 ],
 "metadata": {
  "kernelspec": {
   "display_name": "Python 3",
   "language": "python",
   "name": "python3"
  },
  "language_info": {
   "codemirror_mode": {
    "name": "ipython",
    "version": 3
   },
   "file_extension": ".py",
   "mimetype": "text/x-python",
   "name": "python",
   "nbconvert_exporter": "python",
   "pygments_lexer": "ipython3",
   "version": "3.7.4"
  }
 },
 "nbformat": 4,
 "nbformat_minor": 2
}
