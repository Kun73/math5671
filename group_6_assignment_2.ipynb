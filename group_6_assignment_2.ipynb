{
 "cells": [
  {
   "cell_type": "markdown",
   "metadata": {},
   "source": [
    "# Assignment 2 \n",
    "\n",
    "## Kun Huang, Yizhou Jin\n",
    "\n",
    "In this assignment, we try some features in **TensorFlow** and **gym**. We tried to rewrite the example in a tensorflow style, but since it involves **gym**, we have not figured out how to rewrite it completely.   "
   ]
  },
  {
   "cell_type": "markdown",
   "metadata": {},
   "source": [
    "First we import all the libraries necessary. "
   ]
  },
  {
   "cell_type": "code",
   "execution_count": 3,
   "metadata": {},
   "outputs": [],
   "source": [
    "import gym\n",
    "import numpy as np\n",
    "import random\n",
    "import tensorflow as tf\n",
    "from IPython.display import clear_output\n",
    "import time\n",
    "import warnings\n",
    "\n",
    "warnings.filterwarnings('ignore')"
   ]
  },
  {
   "cell_type": "code",
   "execution_count": 4,
   "metadata": {},
   "outputs": [],
   "source": [
    "#Set environment in gym\n",
    "env = gym.make('FrozenLake-v0')"
   ]
  },
  {
   "cell_type": "markdown",
   "metadata": {},
   "source": [
    "## Codes 1\n",
    "\n",
    "The idea mainly comes from [Simple Reinforcement Learning with Tensorflow Part 0: Q-Learning with Tables and Neural Networks](https://medium.com/emergent-future/simple-reinforcement-learning-with-tensorflow-part-0-q-learning-with-tables-and-neural-networks-d195264329d0). It uses the idea of neural networks, that is, it uses a one-layer network which takes the state encoded in a vector (1x16,i.e. `inputs1`), and produces a vector of 4 Q-values (i.e. `Qout` and `nextQ`). "
   ]
  },
  {
   "cell_type": "code",
   "execution_count": 5,
   "metadata": {},
   "outputs": [],
   "source": [
    "tf.reset_default_graph()\n",
    "\n",
    "#These lines establish the feed-forward part of the network used to choose actions\n",
    "inputs1 = tf.placeholder(shape=[1,16],dtype=tf.float32)\n",
    "W = tf.Variable(tf.random_uniform([16,4],0,0.1))\n",
    "Qout = tf.matmul(inputs1,W)\n",
    "predict = tf.argmax(Qout,1)\n",
    "\n",
    "# loss, L2\n",
    "nextQ = tf.placeholder(shape=[1,4],dtype=tf.float32)\n",
    "loss = tf.reduce_sum(tf.square(nextQ - Qout))\n",
    "trainer = tf.train.GradientDescentOptimizer(learning_rate=0.1)\n",
    "updateModel = trainer.minimize(loss)"
   ]
  },
  {
   "cell_type": "markdown",
   "metadata": {},
   "source": [
    "Next, we run the codes rewritten in tensorflow."
   ]
  },
  {
   "cell_type": "code",
   "execution_count": 7,
   "metadata": {},
   "outputs": [
    {
     "name": "stdout",
     "output_type": "stream",
     "text": [
      "Average rewards: 0.0488\n",
      "Learned Q-Table\n",
      "[[0.00210785 0.00403071 0.00237279 0.00221303]\n",
      " [0.00210785 0.00620063 0.00237279 0.00221303]\n",
      " [0.00210785 0.00456139 0.00237279 0.00221303]\n",
      " [0.00210785 0.00553866 0.00237279 0.00221303]\n",
      " [0.00210785 0.01012959 0.00237279 0.00221303]\n",
      " [0.01619693 0.01145797 0.07632474 0.0677774 ]\n",
      " [0.00210785 0.01378301 0.00237279 0.00221303]\n",
      " [0.06326784 0.08481377 0.04293985 0.09981561]\n",
      " [0.00210785 0.00497512 0.00237279 0.00221303]\n",
      " [0.00210785 0.00516598 0.00237279 0.00221303]\n",
      " [0.00210785 0.01198854 0.00237279 0.00221303]\n",
      " [0.0110678  0.05297069 0.07216506 0.00177388]\n",
      " [0.0997953  0.08007695 0.02440802 0.03464976]\n",
      " [0.00210785 0.01560906 0.00237279 0.00221303]\n",
      " [0.00210785 0.03036444 0.00237279 0.00221303]\n",
      " [0.00559726 0.03219075 0.06012447 0.01850482]]\n"
     ]
    }
   ],
   "source": [
    "# set a initializer for tensor\n",
    "init = tf.global_variables_initializer()\n",
    "\n",
    "# Set learning parameters\n",
    "gamma = .7\n",
    "episodes = 5000\n",
    "alpha = 0.2\n",
    "\n",
    "total = 0\n",
    "\n",
    "with tf.Session() as sess:\n",
    "    sess.run(init)\n",
    "    for i in range(episodes):\n",
    "        \n",
    "        state = env.reset()\n",
    "        done = False\n",
    "        epsilon = 1./(i+1)\n",
    "        # first act\n",
    "        action,allQ = sess.run([predict,Qout], feed_dict={inputs1:np.identity(16)[state:state + 1]})\n",
    "        targetQ = allQ\n",
    "        #The Q-Network\n",
    "        while not done:\n",
    "            \n",
    "            #Choose an action\n",
    "            if random.uniform(0,1) < epsilon:\n",
    "                action[0] = env.action_space.sample()\n",
    "            else:\n",
    "                action[0] = int(np.argmax(targetQ))\n",
    "            #Get new state and reward from env\n",
    "            new_state, reward, done, info = env.step(action[0])\n",
    "            \n",
    "            #Obtain the Q' values by feeding the new state through our network\n",
    "            Q1 = sess.run(Qout, feed_dict={inputs1:np.identity(16)[new_state:new_state + 1]})\n",
    "            #np.max(Q[new_state])\n",
    "            maxQ1 = np.max(Q1)\n",
    "            # formula\n",
    "            targetQ[0,action[0]] += alpha * (reward + gamma*maxQ1 - targetQ[0, action[0]])\n",
    "            #Train our network using target and predicted Q values\n",
    "            _,W1 = sess.run([updateModel,W],feed_dict={inputs1:np.identity(16)[state:state+1],nextQ:targetQ})\n",
    "            total += reward\n",
    "            state = new_state\n",
    "            \n",
    "print (\"Average rewards: \" + str(total/episodes))\n",
    "print(\"Learned Q-Table\")\n",
    "print(W1)\n"
   ]
  },
  {
   "cell_type": "markdown",
   "metadata": {},
   "source": [
    "## Code2\n",
    "\n",
    "Similarly, we rewrite the sample code into tensorflow."
   ]
  },
  {
   "cell_type": "code",
   "execution_count": 8,
   "metadata": {},
   "outputs": [
    {
     "name": "stdout",
     "output_type": "stream",
     "text": [
      "*****************\n",
      "Episodes 9\n",
      "*****************\n",
      "  (Right)\n",
      "SFFF\n",
      "F\u001b[41mH\u001b[0mFH\n",
      "FFFH\n",
      "HFFG\n",
      "*****************\n",
      "Steps 2\n",
      "*****************\n"
     ]
    }
   ],
   "source": [
    "env.reset()\n",
    "episodes = 10\n",
    "max_steps = 100\n",
    "\n",
    "with tf.Session() as sess:\n",
    "    sess.run(init)\n",
    "    for ep in range(episodes):\n",
    "        state = env.reset()\n",
    "        step = 0\n",
    "        done = False\n",
    "        clear_output()\n",
    "        print(\"*****************\")\n",
    "        print(\"Episodes\", ep)\n",
    "        print(\"*****************\")\n",
    "        for step in range(max_steps):\n",
    "            action,allQ = sess.run([predict,Qout], feed_dict={inputs1:np.identity(16)[state:state + 1]})\n",
    "            action[0] = np.argmax(allQ)\n",
    "            new_state, reward, done, info = env.step(action[0])\n",
    "            if done:\n",
    "                env.render()\n",
    "                print(\"*****************\")\n",
    "                print(\"Steps\", step)\n",
    "                print(\"*****************\")\n",
    "                time.sleep(2)\n",
    "                break\n",
    "        state = new_state\n",
    "env.close()\n"
   ]
  }
 ],
 "metadata": {
  "kernelspec": {
   "display_name": "Python 3",
   "language": "python",
   "name": "python3"
  },
  "language_info": {
   "codemirror_mode": {
    "name": "ipython",
    "version": 3
   },
   "file_extension": ".py",
   "mimetype": "text/x-python",
   "name": "python",
   "nbconvert_exporter": "python",
   "pygments_lexer": "ipython3",
   "version": "3.7.4"
  }
 },
 "nbformat": 4,
 "nbformat_minor": 2
}
