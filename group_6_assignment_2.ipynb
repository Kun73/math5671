{
 "cells": [
  {
   "cell_type": "markdown",
   "metadata": {},
   "source": [
    "# Assignment 2 \n",
    "\n",
    "## Kun Huang, Yizhou Jin\n",
    "\n",
    "In this assignment, we try some features in **TensorFlow** and **gym**. "
   ]
  },
  {
   "cell_type": "markdown",
   "metadata": {},
   "source": [
    "First we import all the libraries necessary. "
   ]
  },
  {
   "cell_type": "code",
   "execution_count": 2,
   "metadata": {},
   "outputs": [],
   "source": [
    "import gym\n",
    "import numpy as np\n",
    "import random\n",
    "import tensorflow as tf\n",
    "from IPython.display import clear_output\n",
    "import time\n",
    "import warnings\n",
    "\n",
    "warnings.filterwarnings('ignore')"
   ]
  },
  {
   "cell_type": "code",
   "execution_count": 3,
   "metadata": {},
   "outputs": [],
   "source": [
    "#Set environment in gym\n",
    "env = gym.make('FrozenLake-v0')"
   ]
  },
  {
   "cell_type": "markdown",
   "metadata": {},
   "source": [
    "## Codes 1\n",
    "\n",
    "The idea mainly comes from [Simple Reinforcement Learning with Tensorflow Part 0: Q-Learning with Tables and Neural Networks](https://medium.com/emergent-future/simple-reinforcement-learning-with-tensorflow-part-0-q-learning-with-tables-and-neural-networks-d195264329d0). It uses the idea of neural networks, that is, it uses a one-layer network which takes the state encoded in a vector (1x16,i.e. `inputs1`), and produces a vector of 4 Q-values (i.e. `Qout` and `nextQ`). "
   ]
  },
  {
   "cell_type": "code",
   "execution_count": 4,
   "metadata": {},
   "outputs": [],
   "source": [
    "tf.reset_default_graph()\n",
    "\n",
    "#These lines establish the feed-forward part of the network used to choose actions\n",
    "inputs1 = tf.placeholder(shape=[1,16],dtype=tf.float32)\n",
    "W = tf.Variable(tf.random_uniform([16,4],0,0.1))\n",
    "Qout = tf.matmul(inputs1,W)\n",
    "predict = tf.argmax(Qout,1)\n",
    "\n",
    "# loss, L2\n",
    "nextQ = tf.placeholder(shape=[1,4],dtype=tf.float32)\n",
    "loss = tf.reduce_sum(tf.square(nextQ - Qout))\n",
    "trainer = tf.train.GradientDescentOptimizer(learning_rate=0.1)\n",
    "updateModel = trainer.minimize(loss)"
   ]
  },
  {
   "cell_type": "markdown",
   "metadata": {},
   "source": [
    "Next, we run the codes rewritten in tensorflow."
   ]
  },
  {
   "cell_type": "code",
   "execution_count": 9,
   "metadata": {},
   "outputs": [
    {
     "name": "stdout",
     "output_type": "stream",
     "text": [
      "Average rewards: 0.0168\n",
      "Learned Q-Table\n",
      "[[0.00190608 0.00263399 0.00228829 0.00212742]\n",
      " [0.00416666 0.0054995  0.00342879 0.00216182]\n",
      " [0.00191839 0.00268508 0.00231669 0.0021076 ]\n",
      " [0.00697597 0.00402402 0.00431644 0.0022966 ]\n",
      " [0.00196856 0.0057706  0.00229834 0.00267015]\n",
      " [0.05660341 0.06357435 0.07471418 0.0885246 ]\n",
      " [0.00304796 0.00552304 0.00388466 0.00429829]\n",
      " [0.02196448 0.04746931 0.00585063 0.09813278]\n",
      " [0.00227244 0.00356025 0.00396797 0.00239674]\n",
      " [0.00626919 0.00451156 0.0026764  0.00291943]\n",
      " [0.00394859 0.00419651 0.00511321 0.004895  ]\n",
      " [0.05528345 0.00099499 0.0919311  0.0266538 ]\n",
      " [0.07350774 0.09006526 0.08291616 0.08375569]\n",
      " [0.00556652 0.0056868  0.00406212 0.00384539]\n",
      " [0.00573694 0.05363594 0.04415478 0.00960633]\n",
      " [0.03766136 0.00419477 0.09015631 0.0393252 ]]\n"
     ]
    }
   ],
   "source": [
    "# set a initializer for tensor\n",
    "init = tf.global_variables_initializer()\n",
    "\n",
    "# Set learning parameters\n",
    "gamma = .7\n",
    "episodes = 5000\n",
    "alpha = 0.2\n",
    "\n",
    "total = 0\n",
    "\n",
    "with tf.Session() as sess:\n",
    "    sess.run(init)\n",
    "    for i in range(episodes):\n",
    "        # Reset environment and retrieve the first new state\n",
    "        state = env.reset()\n",
    "        done = False\n",
    "        \n",
    "        epsilon = 1./(i+1)\n",
    "        # First act\n",
    "        action,allQ = sess.run([predict,Qout], feed_dict={inputs1:np.identity(16)[state:state + 1]})\n",
    "        targetQ = allQ\n",
    "        \n",
    "        #The Q-Network\n",
    "        while not done:\n",
    "            #Choose an action\n",
    "            if epsilon < random.uniform(0,1):\n",
    "                action[0] = env.action_space.sample()\n",
    "            else:\n",
    "                action[0] = int(np.argmax(targetQ))\n",
    "            #Get new state and reward from env\n",
    "            new_state, reward, done, info = env.step(action[0])\n",
    "            \n",
    "            #Obtain the Q' values by feeding the new state through our network\n",
    "            Q1 = sess.run(Qout, feed_dict={inputs1:np.identity(16)[new_state:new_state + 1]})\n",
    "            #np.max(Q[new_state])\n",
    "            maxQ1 = np.max(Q1)\n",
    "            # formula\n",
    "            targetQ[0,action[0]] += alpha * (reward + gamma*maxQ1 - targetQ[0, action[0]])\n",
    "            #Train our network using target and predicted Q values\n",
    "            _,W1 = sess.run([updateModel,W],feed_dict={inputs1:np.identity(16)[state:state+1],nextQ:targetQ})\n",
    "            total += reward\n",
    "            state = new_state\n",
    "            \n",
    "print (\"Average rewards: \" + str(total/episodes))\n",
    "print(\"Learned Q-Table\")\n",
    "print(W1)\n"
   ]
  },
  {
   "cell_type": "markdown",
   "metadata": {},
   "source": [
    "## Code2\n",
    "\n",
    "Similarly, we rewrite the sample code into tensorflow."
   ]
  },
  {
   "cell_type": "code",
   "execution_count": 10,
   "metadata": {},
   "outputs": [
    {
     "name": "stdout",
     "output_type": "stream",
     "text": [
      "*****************\n",
      "Episodes 9\n",
      "*****************\n",
      "  (Left)\n",
      "SFFF\n",
      "FHFH\n",
      "FFFH\n",
      "\u001b[41mH\u001b[0mFFG\n",
      "*****************\n",
      "Steps 13\n",
      "*****************\n"
     ]
    }
   ],
   "source": [
    "env.reset()\n",
    "episodes = 10\n",
    "max_steps = 100\n",
    "\n",
    "with tf.Session() as sess:\n",
    "    sess.run(init)\n",
    "    for ep in range(episodes):\n",
    "        state = env.reset()\n",
    "        step = 0\n",
    "        done = False\n",
    "        clear_output()\n",
    "        print(\"*****************\")\n",
    "        print(\"Episodes\", ep)\n",
    "        print(\"*****************\")\n",
    "        for step in range(max_steps):\n",
    "            action,allQ = sess.run([predict,Qout], feed_dict={inputs1:np.identity(16)[state:state + 1]})\n",
    "            action[0] = np.argmax(allQ)\n",
    "            new_state, reward, done, info = env.step(action[0])\n",
    "            if done:\n",
    "                env.render()\n",
    "                print(\"*****************\")\n",
    "                print(\"Steps\", step)\n",
    "                print(\"*****************\")\n",
    "                time.sleep(2)\n",
    "                break\n",
    "        state = new_state\n",
    "env.close()\n"
   ]
  }
 ],
 "metadata": {
  "kernelspec": {
   "display_name": "Python 3",
   "language": "python",
   "name": "python3"
  },
  "language_info": {
   "codemirror_mode": {
    "name": "ipython",
    "version": 3
   },
   "file_extension": ".py",
   "mimetype": "text/x-python",
   "name": "python",
   "nbconvert_exporter": "python",
   "pygments_lexer": "ipython3",
   "version": "3.7.4"
  }
 },
 "nbformat": 4,
 "nbformat_minor": 2
}
