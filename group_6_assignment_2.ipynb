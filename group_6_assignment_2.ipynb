{
 "cells": [
  {
   "cell_type": "markdown",
   "metadata": {},
   "source": [
    "# Assignment 2 \n",
    "\n",
    "## Kun Huang, Yizhou Jin\n",
    "\n",
    "In this assignment, we try some features in **TensorFlow** and **gym**. We tried to rewrite the example in a tensorflow style, but since it involves **gym**, we have not figured out how to rewrite it completely.   "
   ]
  },
  {
   "cell_type": "markdown",
   "metadata": {},
   "source": [
    "First we import all the libraries necessary. "
   ]
  },
  {
   "cell_type": "code",
   "execution_count": 8,
   "metadata": {},
   "outputs": [],
   "source": [
    "import gym\n",
    "import numpy as np\n",
    "import random\n",
    "import tensorflow as tf\n",
    "from IPython.display import clear_output\n",
    "import time\n",
    "import warnings\n",
    "\n",
    "warnings.filterwarnings('ignore')"
   ]
  },
  {
   "cell_type": "code",
   "execution_count": 2,
   "metadata": {},
   "outputs": [],
   "source": [
    "#Set environment in gym\n",
    "env = gym.make('FrozenLake-v0')"
   ]
  },
  {
   "cell_type": "markdown",
   "metadata": {},
   "source": [
    "## Codes 1\n",
    "\n",
    "The idea mainly comes from [Simple Reinforcement Learning with Tensorflow Part 0: Q-Learning with Tables and Neural Networks](https://medium.com/emergent-future/simple-reinforcement-learning-with-tensorflow-part-0-q-learning-with-tables-and-neural-networks-d195264329d0). It uses the idea of neural networks, that is, it uses a one-layer network which takes the state encoded in a vector (1x16,i.e. `inputs1`), and produces a vector of 4 Q-values (i.e. `Qout` and `nextQ`). "
   ]
  },
  {
   "cell_type": "code",
   "execution_count": 6,
   "metadata": {},
   "outputs": [],
   "source": [
    "tf.reset_default_graph()\n",
    "\n",
    "#These lines establish the feed-forward part of the network used to choose actions\n",
    "inputs1 = tf.placeholder(shape=[1,16],dtype=tf.float32)\n",
    "W = tf.Variable(tf.random_uniform([16,4],0,0.1))\n",
    "Qout = tf.matmul(inputs1,W)\n",
    "predict = tf.argmax(Qout,1)\n",
    "\n",
    "# loss, L2\n",
    "nextQ = tf.placeholder(shape=[1,4],dtype=tf.float32)\n",
    "loss = tf.reduce_sum(tf.square(nextQ - Qout))\n",
    "trainer = tf.train.GradientDescentOptimizer(learning_rate=0.1)\n",
    "updateModel = trainer.minimize(loss)"
   ]
  },
  {
   "cell_type": "markdown",
   "metadata": {},
   "source": [
    "Next, we run the codes rewritten in tensorflow."
   ]
  },
  {
   "cell_type": "code",
   "execution_count": 7,
   "metadata": {},
   "outputs": [
    {
     "name": "stdout",
     "output_type": "stream",
     "text": [
      "Average rewards: 0.0204\n",
      "Learned Q-Table\n",
      "[[4.07298430e-05 3.75570817e-05 2.07737670e-04 4.03624836e-05]\n",
      " [6.23325686e-05 6.50726433e-05 4.59288387e-03 5.98590268e-05]\n",
      " [1.82495016e-04 5.35416533e-04 1.93211803e-04 1.53970104e-04]\n",
      " [5.09598292e-03 2.24781426e-04 2.72362260e-04 2.54953018e-04]\n",
      " [2.18543151e-04 2.59502383e-04 3.27463960e-03 2.51325517e-04]\n",
      " [9.84402895e-02 6.33234754e-02 4.54147831e-02 7.81726763e-02]\n",
      " [2.56862491e-03 8.44424963e-03 2.44291290e-03 2.62246816e-03]\n",
      " [5.62756658e-02 3.01493891e-02 8.67512971e-02 8.21112171e-02]\n",
      " [3.14887002e-04 2.77046929e-04 2.58776080e-03 3.15808575e-04]\n",
      " [7.89283251e-04 7.68002006e-04 2.25966098e-03 7.90609687e-04]\n",
      " [1.56975293e-03 1.63703004e-03 6.31615473e-03 1.81776949e-03]\n",
      " [2.21647974e-02 5.98871484e-02 1.26037477e-02 1.89152490e-02]\n",
      " [9.79747176e-02 1.72407757e-02 7.40739098e-03 1.09730959e-02]\n",
      " [2.16108514e-03 2.42753327e-03 2.33033509e-03 5.12008183e-03]\n",
      " [1.02388635e-02 9.29095075e-02 1.12937074e-02 9.47304070e-03]\n",
      " [2.28876825e-02 3.06556951e-02 9.39106569e-02 5.79582565e-02]]\n"
     ]
    }
   ],
   "source": [
    "# set a initializer for tensor\n",
    "init = tf.global_variables_initializer()\n",
    "\n",
    "# Set learning parameters\n",
    "gamma = .7\n",
    "episodes = 5000\n",
    "alpha = 0.2\n",
    "total = 0\n",
    "with tf.Session() as sess:\n",
    "    sess.run(init)\n",
    "    for i in range(episodes):\n",
    "        #Reset environment and get first new observation\n",
    "        state = env.reset()\n",
    "        done = False\n",
    "        epsilon = 1./(i+1)\n",
    "        #The Q-Network\n",
    "        while not done:\n",
    "            #Choose an action by greedily (with e chance of random action) from the Q-network\n",
    "            action,allQ = sess.run([predict,Qout], feed_dict={inputs1:np.identity(16)[state:state + 1]})\n",
    "            targetQ = allQ\n",
    "            if random.uniform(0,1) < epsilon:\n",
    "                action[0] = env.action_space.sample()\n",
    "            else:\n",
    "                action[0] = int(np.argmax(targetQ))\n",
    "            #Get new state and reward from environment\n",
    "            new_state, reward, done, info = env.step(action[0])\n",
    "            #Obtain the Q' values by feeding the new state through our network\n",
    "            Q1 = sess.run(Qout, feed_dict={inputs1:np.identity(16)[new_state:new_state + 1]})\n",
    "            #Obtain maxQ' and set our target value for chosen action.\n",
    "            maxQ1 = np.max(Q1)\n",
    "            targetQ[0,action[0]] = alpha * (reward + gamma*maxQ1 - targetQ[0, action[0]])\n",
    "            #Train our network using target and predicted Q values\n",
    "            _,W1 = sess.run([updateModel,W],feed_dict={inputs1:np.identity(16)[state:state+1],nextQ:targetQ})\n",
    "            total += reward\n",
    "            state = new_state\n",
    "print (\"Average rewards: \" + str(total/episodes))\n",
    "print(\"Learned Q-Table\")\n",
    "print(W1)\n"
   ]
  },
  {
   "cell_type": "markdown",
   "metadata": {},
   "source": [
    "## Code2\n",
    "\n",
    "Similarly, we rewrite the sample code into tensorflow."
   ]
  },
  {
   "cell_type": "code",
   "execution_count": 9,
   "metadata": {},
   "outputs": [
    {
     "name": "stdout",
     "output_type": "stream",
     "text": [
      "*****************\n",
      "Episodes 9\n",
      "*****************\n",
      "  (Left)\n",
      "SFFF\n",
      "FHFH\n",
      "FFFH\n",
      "\u001b[41mH\u001b[0mFFG\n",
      "*****************\n",
      "Steps 9\n",
      "*****************\n"
     ]
    }
   ],
   "source": [
    "env.reset()\n",
    "episodes = 10\n",
    "max_steps = 100\n",
    "\n",
    "with tf.Session() as sess:\n",
    "    sess.run(init)\n",
    "    for ep in range(episodes):\n",
    "        state = env.reset()\n",
    "        step = 0\n",
    "        done = False\n",
    "        clear_output()\n",
    "        print(\"*****************\")\n",
    "        print(\"Episodes\", ep)\n",
    "        print(\"*****************\")\n",
    "        for step in range(max_steps):\n",
    "            action,allQ = sess.run([predict,Qout], feed_dict={inputs1:np.identity(16)[state:state + 1]})\n",
    "            action[0] = np.argmax(allQ)\n",
    "            new_state, reward, done, info = env.step(action[0])\n",
    "            if done:\n",
    "                env.render()\n",
    "                print(\"*****************\")\n",
    "                print(\"Steps\", step)\n",
    "                print(\"*****************\")\n",
    "                time.sleep(2)\n",
    "                break\n",
    "        state = new_state\n",
    "env.close()\n"
   ]
  }
 ],
 "metadata": {
  "kernelspec": {
   "display_name": "Python 3",
   "language": "python",
   "name": "python3"
  },
  "language_info": {
   "codemirror_mode": {
    "name": "ipython",
    "version": 3
   },
   "file_extension": ".py",
   "mimetype": "text/x-python",
   "name": "python",
   "nbconvert_exporter": "python",
   "pygments_lexer": "ipython3",
   "version": "3.7.4"
  }
 },
 "nbformat": 4,
 "nbformat_minor": 2
}
