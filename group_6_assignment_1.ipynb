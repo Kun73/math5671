{
 "cells": [
  {
   "cell_type": "markdown",
   "metadata": {},
   "source": [
    "# Assignment 1\n",
    "\n",
    "## Kun Huang,Yizhou Jin,Jui-Chang Ting\n",
    "\n"
   ]
  },
  {
   "cell_type": "markdown",
   "metadata": {},
   "source": [
    "## Problem 1"
   ]
  },
  {
   "cell_type": "markdown",
   "metadata": {},
   "source": [
    "First, we import packages."
   ]
  },
  {
   "cell_type": "code",
   "execution_count": 1,
   "metadata": {},
   "outputs": [],
   "source": [
    "import urllib.request\n",
    "from lxml import etree\n",
    "import numpy as np\n",
    "import pandas as pd\n",
    "# the fowllowing support for uploading files to google drive\n",
    "from pydrive.auth import GoogleAuth\n",
    "from pydrive.drive import GoogleDrive\n"
   ]
  },
  {
   "cell_type": "markdown",
   "metadata": {},
   "source": [
    "The function  takes an input `year`,which stands for the period, sends requests to US Treasury website, retrieves the response, and returns the yield rates in a 2-dimensional ndarray with `dtype = np.float32`. Moreover, it returns the corresponding date which will be used in problem 2 as index. "
   ]
  },
  {
   "cell_type": "code",
   "execution_count": 5,
   "metadata": {},
   "outputs": [],
   "source": [
    "def yield_rate (year):\n",
    "    period = [\"BC_1MONTH\", \"BC_3MONTH\", \"BC_6MONTH\", \"BC_1YEAR\", \"BC_2YEAR\", \"BC_3YEAR\", \"BC_5YEAR\",\n",
    "          \"BC_7YEAR\", \"BC_10YEAR\", \"BC_20YEAR\", \"BC_30YEAR\"]  \n",
    "    xml = urllib.request.urlopen(\n",
    "        'http://data.treasury.gov/feed.svc/DailyTreasuryYieldCurveRateData?$filter=year(NEW_DATE)%20eq%20'+str(year)\n",
    "    ).read()  \n",
    "    tree = etree.fromstring(xml)\n",
    "    tree.xpath(\"//*\")\n",
    "    row=len(tree.findall(\".//{http://schemas.microsoft.com/ado/2007/08/dataservices}BC_1MONTH\"))\n",
    "    col=len(period)\n",
    "    yields = np.empty((row,0)).tolist()    \n",
    "    for i in range(row):\n",
    "        for j in range(col):\n",
    "            tbill =tree.findall(\".//{http://schemas.microsoft.com/ado/2007/08/dataservices}\"+period[j])\n",
    "            yields[i].append(tbill[i].text)  \n",
    "    date =tree.findall(\".//{http://schemas.microsoft.com/ado/2007/08/dataservices}NEW_DATE\")\n",
    "    DATE = []\n",
    "    for i in range(row):\n",
    "        DATE.append( date[i].text[:10])\n",
    "    return np.array(yields,dtype = np.float32), DATE "
   ]
  },
  {
   "cell_type": "markdown",
   "metadata": {},
   "source": [
    "For example, we want the yields rate of 2017."
   ]
  },
  {
   "cell_type": "code",
   "execution_count": 9,
   "metadata": {},
   "outputs": [],
   "source": [
    "yields, date = yield_rate(2017)"
   ]
  },
  {
   "cell_type": "code",
   "execution_count": 11,
   "metadata": {},
   "outputs": [
    {
     "data": {
      "text/plain": [
       "array([[0.52, 0.53, 0.65, 0.89, 1.22, 1.5 , 1.94, 2.26, 2.45, 2.78, 3.04],\n",
       "       [0.49, 0.53, 0.63, 0.87, 1.24, 1.5 , 1.94, 2.26, 2.46, 2.78, 3.05],\n",
       "       [0.51, 0.52, 0.62, 0.83, 1.17, 1.43, 1.86, 2.18, 2.37, 2.69, 2.96],\n",
       "       [0.5 , 0.53, 0.61, 0.85, 1.22, 1.5 , 1.92, 2.23, 2.42, 2.73, 3.  ],\n",
       "       [0.5 , 0.5 , 0.6 , 0.82, 1.21, 1.47, 1.89, 2.18, 2.38, 2.69, 2.97]],\n",
       "      dtype=float32)"
      ]
     },
     "execution_count": 11,
     "metadata": {},
     "output_type": "execute_result"
    }
   ],
   "source": [
    "yields[:5]"
   ]
  },
  {
   "cell_type": "code",
   "execution_count": 13,
   "metadata": {},
   "outputs": [
    {
     "data": {
      "text/plain": [
       "(251, 11)"
      ]
     },
     "execution_count": 13,
     "metadata": {},
     "output_type": "execute_result"
    }
   ],
   "source": [
    "yields.shape"
   ]
  },
  {
   "cell_type": "markdown",
   "metadata": {},
   "source": [
    "## Problem 2"
   ]
  },
  {
   "cell_type": "markdown",
   "metadata": {},
   "source": [
    "We takes the yields rate from 2015 to 2019. We first create a temporary list to store DataFrame, then use `pandas.concat` to merge those DataFrame storing yields in different years."
   ]
  },
  {
   "cell_type": "code",
   "execution_count": 16,
   "metadata": {},
   "outputs": [],
   "source": [
    "temp = []\n",
    "col_name = [\"1 Mo\", \"3 Mo\", \"6 Mo\", \"1 Yr\", \n",
    "            \"2 Yr\",\"3 Yr\", \"5 Yr\", \"7 Yr\", \"10 Yr\", \"20 Yr\", \"30 Yr\"]  \n",
    "for year in range(2015,2020):\n",
    "    yields,date = yield_rate(year)\n",
    "    temp.append(pd.DataFrame(yields,index = date,columns = col_name))\n",
    "    "
   ]
  },
  {
   "cell_type": "markdown",
   "metadata": {},
   "source": [
    "We use `pydrive` to upload the data. Details can be found in the [offical document](https://pythonhosted.org/PyDrive/quickstart.html) "
   ]
  },
  {
   "cell_type": "code",
   "execution_count": 14,
   "metadata": {},
   "outputs": [
    {
     "name": "stdout",
     "output_type": "stream",
     "text": [
      "Your browser has been opened to visit:\n",
      "\n",
      "    https://accounts.google.com/o/oauth2/auth?client_id=563272299424-1d6hdqhvm3h1npjine76k1oc54oarqhs.apps.googleusercontent.com&redirect_uri=http%3A%2F%2Flocalhost%3A8080%2F&scope=https%3A%2F%2Fwww.googleapis.com%2Fauth%2Fdrive&access_type=offline&response_type=code\n",
      "\n",
      "Authentication successful.\n"
     ]
    }
   ],
   "source": [
    "gauth = GoogleAuth()\n",
    "gauth.LocalWebserverAuth() \n",
    "# Creates local webserver and auto handles authentication."
   ]
  },
  {
   "cell_type": "markdown",
   "metadata": {},
   "source": [
    "Then we upload the DataFrame `whole_sheet`."
   ]
  },
  {
   "cell_type": "code",
   "execution_count": 20,
   "metadata": {},
   "outputs": [
    {
     "name": "stdout",
     "output_type": "stream",
     "text": [
      "Uploaded file with ID 1bddsMHL5OoOZooBqFCfGFVfC2qErs0gn\n"
     ]
    }
   ],
   "source": [
    "drive = GoogleDrive(gauth)\n",
    "whole_sheet = pd.concat(temp)\n",
    "writer = pd.ExcelWriter(\"test.xlsx\")\n",
    "whole_sheet.to_excel(writer,'sheet1',float_format='%.2f') \n",
    "uploaded = drive.CreateFile({'title': 'test.xlsx'})\n",
    "uploaded.SetContentFile(\"test.xlsx\")\n",
    "uploaded.Upload()\n",
    "print('Uploaded file with ID {}'.format(uploaded.get('id')))"
   ]
  },
  {
   "cell_type": "code",
   "execution_count": null,
   "metadata": {},
   "outputs": [],
   "source": []
  }
 ],
 "metadata": {
  "kernelspec": {
   "display_name": "Python 3",
   "language": "python",
   "name": "python3"
  },
  "language_info": {
   "codemirror_mode": {
    "name": "ipython",
    "version": 3
   },
   "file_extension": ".py",
   "mimetype": "text/x-python",
   "name": "python",
   "nbconvert_exporter": "python",
   "pygments_lexer": "ipython3",
   "version": "3.6.5"
  }
 },
 "nbformat": 4,
 "nbformat_minor": 2
}
